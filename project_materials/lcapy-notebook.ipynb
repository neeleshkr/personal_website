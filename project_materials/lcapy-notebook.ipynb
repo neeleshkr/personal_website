{
 "cells": [
  {
   "cell_type": "markdown",
   "metadata": {},
   "source": [
    "# EE16B: Circuit Analysis with `lcapy`\n",
    "\n",
    "# Installation and Setup\n",
    "### Troubleshooting\n",
    "At any point, if you get a `Symbol is not callable` error or `NaN`s start appearing, please restart your kernel.\n",
    "\n",
    "### Known bugs\n",
    "Voltage/current sources may display upside down, with their + and - terminals reversed in the circuit drawing. In this case, the analysis will still be as if the voltage sources were correctly oriented i.e. the reverse of what the drawing appears to indicate.\n",
    "\n",
    "### Necessary Imports\n",
    "Let's get the basic imports out of the way up front real quick."
   ]
  },
  {
   "cell_type": "code",
   "execution_count": 1,
   "metadata": {},
   "outputs": [],
   "source": [
    "import numpy as np\n",
    "from matplotlib import pyplot as plt\n",
    "%matplotlib inline"
   ]
  },
  {
   "cell_type": "markdown",
   "metadata": {},
   "source": [
    "### Test Anaconda Distribution\n",
    "Let's first make sure your Anaconda distribution includes the `sympy` library which is necessary for `lcapy` to work."
   ]
  },
  {
   "cell_type": "code",
   "execution_count": 2,
   "metadata": {},
   "outputs": [
    {
     "name": "stdout",
     "output_type": "stream",
     "text": [
      "Your Anaconda distribution includes sympy. No actions necessary here!\n"
     ]
    }
   ],
   "source": [
    "try:\n",
    "    import sympy\n",
    "    print(\"Your Anaconda distribution includes sympy. No actions necessary here!\")\n",
    "except ImportError:\n",
    "    print(\"sympy is missing in your Anaconda distribution. If you did not install Python3 through Anaconda, then do so now.\")\n",
    "    print(\"If you are sure you have the Anaconda distribution, then in your terminal of choice, run 'conda install sympy'\")"
   ]
  },
  {
   "cell_type": "markdown",
   "metadata": {},
   "source": [
    "### Install `lcapy` if not already present\n",
    "Next up, we test to see if `lcapy` is present. If not, we'll try to install it for you automagically."
   ]
  },
  {
   "cell_type": "code",
   "execution_count": 3,
   "metadata": {},
   "outputs": [
    {
     "name": "stdout",
     "output_type": "stream",
     "text": [
      "It looks like lcapy is installed on your computer — you're all set!\n"
     ]
    }
   ],
   "source": [
    "try:\n",
    "    import lcapy\n",
    "    print(\"It looks like lcapy is installed on your computer — you're all set!\")\n",
    "except ImportError:\n",
    "    print(\"We can't find lcapy on your computer, so we're going to go ahead and try to install it for you.\")\n",
    "    import sys\n",
    "    !{sys.executable} -m pip install --user https://github.com/mph-/lcapy/zipball/master\n",
    "    print(\"If the above command succeeded, lcapy should be installed on your computer, so go ahead and re-run this code block to ensure everything works.\")"
   ]
  },
  {
   "cell_type": "markdown",
   "metadata": {},
   "source": [
    "### Patch `lcapy` installation dynamically\n",
    "Unfortunately, `lcapy` assumes you have a $\\LaTeX$ installation running on your computer, which is certainly not the case for everyone. Therefore, we do what is called \"monkey-patching\" in Python land to dynamically modify the `lcapy` module at runtime. \n",
    "\n",
    "Note that we use a free web-based $\\LaTeX$ compiler API online, which is why there will be a processing delay when you try to draw circuits. Please don't refresh constantly --- it's a free service, don't abuse it.\n",
    "\n",
    "You don't need to know how exactly this code works, but you need to execute it in order to draw circuits in this iPython notebook.\n",
    "\n",
    "**Important**: If you would like to use your local TeX installation to render circuits, then simply set the boolean flag `USE_LATEX_API` to `False` in the code below. We recommend the full TeXLive installation if you decide to go this route."
   ]
  },
  {
   "cell_type": "code",
   "execution_count": 4,
   "metadata": {},
   "outputs": [
    {
     "name": "stdout",
     "output_type": "stream",
     "text": [
      "Done monkey-patching lcapy libraries.\n",
      "Using the web-based API for circuit rendering.\n",
      "Please be patient — rendering circuits may take a few seconds (longer if you have a slow internet connection).\n"
     ]
    }
   ],
   "source": [
    "f"
   ]
  },
  {
   "cell_type": "markdown",
   "metadata": {},
   "source": [
    "# An Introduction to `lcapy`\n",
    "## Constructing one-port circuits\n",
    "Now that we've got this shiny new tool, let's explore it! Let's start by constructing a basic two-resistor network."
   ]
  },
  {
   "cell_type": "code",
   "execution_count": 5,
   "metadata": {},
   "outputs": [],
   "source": [
    "two_resistor_network_parallel = (lcapy.R(1) | lcapy.R(5))"
   ]
  },
  {
   "cell_type": "markdown",
   "metadata": {},
   "source": [
    "Wait... nothing happened? That's right, you haven't drawn anything yet! \n",
    "\n",
    "Let's explore the anatomy of the `lcapy` command. We have `(lcapy.R(1) | lcapy.R(5))`, which looks a _lot_ like `lcapy.R(1)` $\\parallel$ `lcapy.R(5)`, doesn't it? This syntax is quite intuitive, and you'll be masters at it in no time.\n",
    "\n",
    "Now, let's go ahead and draw it, because pictures are worth a thousand words."
   ]
  },
  {
   "cell_type": "code",
   "execution_count": 6,
   "metadata": {},
   "outputs": [
    {
     "name": "stdout",
     "output_type": "stream",
     "text": [
      "DEBUG: Trying to compile C:\\Users\\18NEEL~1\\AppData\\Local\\Temp\\tmpt77ifpyb.tex\n",
      "DEBUG: Generated target url starts with 'http://latexonline.cc/compile?text=%5Cdo...'\n",
      "DEBUG: Compiling LaTeX using online API...\n",
      "DEBUG: Downloading service response...\n",
      "DEBUG: Finished downloading compiled LaTeX output\n",
      "DEBUG: Reading PDF binary at C:\\Users\\18NEEL~1\\AppData\\Local\\Temp\\tmpt77ifpyb.pdf into memory...\n",
      "DEBUG: Converting PDF to image using OCF service...\n",
      "DEBUG: Received conversion response (len 12322)\n",
      "\n"
     ]
    },
    {
     "data": {
      "image/jpeg": "[encoded data removed]",
      "text/plain": [
       "<IPython.core.display.Image object>"
      ]
     },
     "execution_count": 6,
     "metadata": {},
     "output_type": "execute_result"
    }
   ],
   "source": [
    "two_resistor_network_parallel.draw()"
   ]
  },
  {
   "cell_type": "markdown",
   "metadata": {},
   "source": [
    "### Equivalents and more complex circuits\n",
    "Lcapy can automatically simplify circuits and find their Thevenin and Norton equivalents, if they exist.\n",
    "\n",
    "Here's the simplified version of the basic parallel two-resistor network above:"
   ]
  },
  {
   "cell_type": "code",
   "execution_count": 7,
   "metadata": {},
   "outputs": [
    {
     "name": "stdout",
     "output_type": "stream",
     "text": [
      "DEBUG: Trying to compile C:\\Users\\18NEEL~1\\AppData\\Local\\Temp\\tmpf4whl259.tex\n",
      "DEBUG: Generated target url starts with 'http://latexonline.cc/compile?text=%5Cdo...'\n",
      "DEBUG: Compiling LaTeX using online API...\n",
      "DEBUG: Downloading service response...\n",
      "DEBUG: Finished downloading compiled LaTeX output\n",
      "DEBUG: Reading PDF binary at C:\\Users\\18NEEL~1\\AppData\\Local\\Temp\\tmpf4whl259.pdf into memory...\n",
      "DEBUG: Converting PDF to image using OCF service...\n",
      "DEBUG: Received conversion response (len 6333)\n",
      "\n"
     ]
    },
    {
     "data": {
      "image/jpeg": "[encoded data removed]",
      "text/plain": [
       "<IPython.core.display.Image object>"
      ]
     },
     "execution_count": 7,
     "metadata": {},
     "output_type": "execute_result"
    }
   ],
   "source": [
    "two_resistor_network_parallel.simplify().draw()"
   ]
  },
  {
   "cell_type": "markdown",
   "metadata": {},
   "source": [
    "Let's go ahead and construct a new network composed of a DC 1V power source connected to our two-resistor network."
   ]
  },
  {
   "cell_type": "code",
   "execution_count": 8,
   "metadata": {},
   "outputs": [
    {
     "name": "stdout",
     "output_type": "stream",
     "text": [
      "DEBUG: Trying to compile C:\\Users\\18NEEL~1\\AppData\\Local\\Temp\\tmpb9lwx5wx.tex\n",
      "DEBUG: Generated target url starts with 'http://latexonline.cc/compile?text=%5Cdo...'\n",
      "DEBUG: Compiling LaTeX using online API...\n",
      "DEBUG: Downloading service response...\n",
      "DEBUG: Finished downloading compiled LaTeX output\n",
      "DEBUG: Reading PDF binary at C:\\Users\\18NEEL~1\\AppData\\Local\\Temp\\tmpb9lwx5wx.pdf into memory...\n",
      "DEBUG: Converting PDF to image using OCF service...\n",
      "DEBUG: Received conversion response (len 16982)\n",
      "\n"
     ]
    },
    {
     "data": {
      "image/jpeg": "[encoded data removed]",
      "text/plain": [
       "<IPython.core.display.Image object>"
      ]
     },
     "execution_count": 8,
     "metadata": {},
     "output_type": "execute_result"
    }
   ],
   "source": [
    "simple_network = lcapy.Vdc(1) + two_resistor_network_parallel\n",
    "simple_network.draw()"
   ]
  },
  {
   "cell_type": "markdown",
   "metadata": {},
   "source": [
    "What's the Norton equivalent, you may ask? And `lcapy` will answer:"
   ]
  },
  {
   "cell_type": "code",
   "execution_count": 9,
   "metadata": {},
   "outputs": [
    {
     "name": "stdout",
     "output_type": "stream",
     "text": [
      "DEBUG: Trying to compile C:\\Users\\18NEEL~1\\AppData\\Local\\Temp\\tmp1ut0twg2.tex\n",
      "DEBUG: Generated target url starts with 'http://latexonline.cc/compile?text=%5Cdo...'\n",
      "DEBUG: Compiling LaTeX using online API...\n",
      "DEBUG: Downloading service response...\n",
      "DEBUG: Finished downloading compiled LaTeX output\n",
      "DEBUG: Reading PDF binary at C:\\Users\\18NEEL~1\\AppData\\Local\\Temp\\tmp1ut0twg2.pdf into memory...\n",
      "DEBUG: Converting PDF to image using OCF service...\n",
      "DEBUG: Received conversion response (len 12772)\n",
      "\n"
     ]
    },
    {
     "data": {
      "image/jpeg": "[encoded data removed]",
      "text/plain": [
       "<IPython.core.display.Image object>"
      ]
     },
     "execution_count": 9,
     "metadata": {},
     "output_type": "execute_result"
    }
   ],
   "source": [
    "simple_network.norton().draw()"
   ]
  },
  {
   "cell_type": "markdown",
   "metadata": {},
   "source": [
    "Can't forget about our good friend Thévenin either:"
   ]
  },
  {
   "cell_type": "code",
   "execution_count": 10,
   "metadata": {},
   "outputs": [
    {
     "name": "stdout",
     "output_type": "stream",
     "text": [
      "DEBUG: Trying to compile C:\\Users\\18NEEL~1\\AppData\\Local\\Temp\\tmpp6q69s5g.tex\n",
      "DEBUG: Generated target url starts with 'http://latexonline.cc/compile?text=%5Cdo...'\n",
      "DEBUG: Compiling LaTeX using online API...\n",
      "DEBUG: Downloading service response...\n",
      "DEBUG: Finished downloading compiled LaTeX output\n",
      "DEBUG: Reading PDF binary at C:\\Users\\18NEEL~1\\AppData\\Local\\Temp\\tmpp6q69s5g.pdf into memory...\n",
      "DEBUG: Converting PDF to image using OCF service...\n",
      "DEBUG: Received conversion response (len 10353)\n",
      "\n"
     ]
    },
    {
     "data": {
      "image/jpeg": "[encoded data removed]",
      "text/plain": [
       "<IPython.core.display.Image object>"
      ]
     },
     "execution_count": 10,
     "metadata": {},
     "output_type": "execute_result"
    }
   ],
   "source": [
    "simple_network.thevenin().draw()"
   ]
  },
  {
   "cell_type": "markdown",
   "metadata": {},
   "source": [
    "We can also use Lcapy for more complex networks involving capacitors and resistors.\n",
    "\n",
    "Let's make an V-L-(C-RR) network where Vdc is our DC power source. Note how the operator precedence is read from left-to-right (e.g. `+` and `|` have the same precedence, and are simply read left-to-right)."
   ]
  },
  {
   "cell_type": "code",
   "execution_count": 11,
   "metadata": {},
   "outputs": [
    {
     "name": "stdout",
     "output_type": "stream",
     "text": [
      "DEBUG: Trying to compile C:\\Users\\18NEEL~1\\AppData\\Local\\Temp\\tmpecpz5qgc.tex\n",
      "DEBUG: Generated target url starts with 'http://latexonline.cc/compile?text=%5Cdo...'\n",
      "DEBUG: Compiling LaTeX using online API...\n",
      "DEBUG: Downloading service response...\n",
      "DEBUG: Finished downloading compiled LaTeX output\n",
      "DEBUG: Reading PDF binary at C:\\Users\\18NEEL~1\\AppData\\Local\\Temp\\tmpecpz5qgc.pdf into memory...\n",
      "DEBUG: Converting PDF to image using OCF service...\n",
      "DEBUG: Received conversion response (len 31086)\n",
      "\n"
     ]
    },
    {
     "data": {
      "image/jpeg": "[encoded data removed]",
      "text/plain": [
       "<IPython.core.display.Image object>"
      ]
     },
     "execution_count": 11,
     "metadata": {},
     "output_type": "execute_result"
    }
   ],
   "source": [
    "test_network = (lcapy.R(1) + lcapy.R(2) | lcapy.C(5) | lcapy.L(3) + lcapy.Vdc(20))\n",
    "test_network.draw()"
   ]
  },
  {
   "cell_type": "markdown",
   "metadata": {},
   "source": [
    "Let's go ahead and simplify it a bit, then redraw it:"
   ]
  },
  {
   "cell_type": "code",
   "execution_count": 12,
   "metadata": {},
   "outputs": [
    {
     "name": "stdout",
     "output_type": "stream",
     "text": [
      "DEBUG: Trying to compile C:\\Users\\18NEEL~1\\AppData\\Local\\Temp\\tmpyn02f_lk.tex\n",
      "DEBUG: Generated target url starts with 'http://latexonline.cc/compile?text=%5Cdo...'\n",
      "DEBUG: Compiling LaTeX using online API...\n",
      "DEBUG: Downloading service response...\n",
      "DEBUG: Finished downloading compiled LaTeX output\n",
      "DEBUG: Reading PDF binary at C:\\Users\\18NEEL~1\\AppData\\Local\\Temp\\tmpyn02f_lk.pdf into memory...\n",
      "DEBUG: Converting PDF to image using OCF service...\n",
      "DEBUG: Received conversion response (len 24971)\n",
      "\n"
     ]
    },
    {
     "data": {
      "image/jpeg": "[encoded data removed]",
      "text/plain": [
       "<IPython.core.display.Image object>"
      ]
     },
     "execution_count": 12,
     "metadata": {},
     "output_type": "execute_result"
    }
   ],
   "source": [
    "test_network.simplify().draw()"
   ]
  },
  {
   "cell_type": "markdown",
   "metadata": {},
   "source": [
    "What happens if we try to find the Norton equivalent of a network that doesn't actually have one? `Lcapy` will throw an error."
   ]
  },
  {
   "cell_type": "code",
   "execution_count": 13,
   "metadata": {},
   "outputs": [
    {
     "name": "stdout",
     "output_type": "stream",
     "text": [
      "Lcapy threw a ValueError:\n",
      "\n",
      "The MNA A matrix is not invertible for dc analysis because:\n",
      "1. there may be capacitors in series;\n",
      "2. a voltage source might be short-circuited;\n",
      "3. a current source might be open-circuited.\n",
      "  Check there is a DC path between all nodes.!\n"
     ]
    }
   ],
   "source": [
    "try:\n",
    "    test_network.norton().draw()\n",
    "except ValueError as e:\n",
    "    print(f\"Lcapy threw a ValueError:\\n\\n{e}!\")"
   ]
  },
  {
   "cell_type": "markdown",
   "metadata": {},
   "source": [
    "### RC circuit analysis\n",
    "\n",
    "`Lcapy` can automate a lot of the frequency domain circuit analysis that we've been doing in class."
   ]
  },
  {
   "cell_type": "code",
   "execution_count": 14,
   "metadata": {},
   "outputs": [
    {
     "name": "stdout",
     "output_type": "stream",
     "text": [
      "DEBUG: Trying to compile C:\\Users\\18NEEL~1\\AppData\\Local\\Temp\\tmpkfqu4d4d.tex\n",
      "DEBUG: Generated target url starts with 'http://latexonline.cc/compile?text=%5Cdo...'\n",
      "DEBUG: Compiling LaTeX using online API...\n",
      "DEBUG: Downloading service response...\n",
      "DEBUG: Finished downloading compiled LaTeX output\n",
      "DEBUG: Reading PDF binary at C:\\Users\\18NEEL~1\\AppData\\Local\\Temp\\tmpkfqu4d4d.pdf into memory...\n",
      "DEBUG: Converting PDF to image using OCF service...\n",
      "DEBUG: Received conversion response (len 9509)\n",
      "\n"
     ]
    },
    {
     "data": {
      "image/jpeg": "[encoded data removed]",
      "text/plain": [
       "<IPython.core.display.Image object>"
      ]
     },
     "execution_count": 14,
     "metadata": {},
     "output_type": "execute_result"
    }
   ],
   "source": [
    "rc_network = (lcapy.R(1e3) + lcapy.C(1e-6))\n",
    "rc_network.draw()"
   ]
  },
  {
   "cell_type": "markdown",
   "metadata": {},
   "source": [
    "For instance, we can find impedance as a function of $jw$. To get it in the best form, we recommend using `.Z.jomega`\n",
    "\n",
    "That being said, there are lots of other ways to clean it up --- for instance `.Z.jomega.ZPK()` and `.z.jomega.canonical()`. Definitely play around with them and pick the one you like best!"
   ]
  },
  {
   "cell_type": "code",
   "execution_count": 15,
   "metadata": {},
   "outputs": [
    {
     "data": {
      "text/latex": [
       "$$- \\frac{1000 i}{\\omega} \\left(i \\omega + 1000\\right)$$"
      ],
      "text/plain": [
       "-1000⋅ⅉ⋅(ⅉ⋅ω + 1000) \n",
       "─────────────────────\n",
       "          ω          "
      ]
     },
     "execution_count": 15,
     "metadata": {},
     "output_type": "execute_result"
    }
   ],
   "source": [
    "rc_network.Z.jomega"
   ]
  },
  {
   "cell_type": "code",
   "execution_count": 16,
   "metadata": {},
   "outputs": [
    {
     "data": {
      "text/latex": [
       "$$\\frac{1000}{\\omega} \\left(\\omega - 1000 i\\right)$$"
      ],
      "text/plain": [
       "1000⋅(ω - 1000⋅ⅉ)\n",
       "─────────────────\n",
       "        ω        "
      ]
     },
     "execution_count": 16,
     "metadata": {},
     "output_type": "execute_result"
    }
   ],
   "source": [
    "rc_network.Z.jomega.ZPK()"
   ]
  },
  {
   "cell_type": "code",
   "execution_count": 17,
   "metadata": {},
   "outputs": [
    {
     "data": {
      "text/latex": [
       "$$\\frac{1000}{\\omega} \\left(\\omega - 1000 i\\right)$$"
      ],
      "text/plain": [
       "1000⋅(ω - 1000⋅ⅉ)\n",
       "─────────────────\n",
       "        ω        "
      ]
     },
     "execution_count": 17,
     "metadata": {},
     "output_type": "execute_result"
    }
   ],
   "source": [
    "rc_network.Z.jomega.canonical()"
   ]
  },
  {
   "cell_type": "markdown",
   "metadata": {},
   "source": [
    "Can we compute poles and zeros symbolically? We sure can!"
   ]
  },
  {
   "cell_type": "code",
   "execution_count": 18,
   "metadata": {},
   "outputs": [
    {
     "data": {
      "image/png": "[encoded data removed]",
      "text/latex": [
       "$$\\left ( \\left \\{ 0 : 1\\right \\}, \\quad \\left \\{ 1000 i : 1\\right \\}\\right )$$"
      ],
      "text/plain": [
       "({0: 1}, {1000⋅ⅉ: 1})"
      ]
     },
     "execution_count": 18,
     "metadata": {},
     "output_type": "execute_result"
    }
   ],
   "source": [
    "rc_network.Z.denominator.zeros(), rc_network.Z.jomega.zeros()"
   ]
  },
  {
   "cell_type": "markdown",
   "metadata": {},
   "source": [
    "And can we plot it? Of course we can!"
   ]
  },
  {
   "cell_type": "code",
   "execution_count": 19,
   "metadata": {},
   "outputs": [
    {
     "data": {
      "text/plain": [
       "<matplotlib.axes._subplots.AxesSubplot at 0x219ec262630>"
      ]
     },
     "execution_count": 19,
     "metadata": {},
     "output_type": "execute_result"
    },
    {
     "data": {
      "image/png": "[encoded data removed]",
      "text/plain": [
       "<matplotlib.figure.Figure at 0x219ec262320>"
      ]
     },
     "metadata": {},
     "output_type": "display_data"
    }
   ],
   "source": [
    "lcapy.Hs(rc_network.Z).plot()"
   ]
  },
  {
   "cell_type": "markdown",
   "metadata": {},
   "source": [
    "What about the exact numerical value of the frequency response?\n",
    "\n",
    "Note that the output is a complex number, which is very nice, since it gives us both the phase and magnitude information."
   ]
  },
  {
   "cell_type": "code",
   "execution_count": 20,
   "metadata": {},
   "outputs": [
    {
     "data": {
      "text/plain": [
       "(1000-0.0015915494309189536j)"
      ]
     },
     "execution_count": 20,
     "metadata": {},
     "output_type": "execute_result"
    }
   ],
   "source": [
    "rc_network.Z.frequency_response(0.1e9)"
   ]
  },
  {
   "cell_type": "markdown",
   "metadata": {},
   "source": [
    "**Wait, this frequency response doesn't look right! I'm pretty sure it should be something else based on my 16B knowledge.**\n",
    "\n",
    "Usually, when we build an RC circuit, we are interested in finding the voltage between the resistor and capacitor, whereas the above s-domain (frequency) response only looks at the output port of the whole circuit (input-R-C-output with no ground connection).\n",
    "\n",
    "So how do we do get the voltage across just the resistor or the capacitor in `lcapy`? We can make use of the `LSection` procedure. If we create an `LSection(network_1, network_2)`, we can measure the transfer function of $V_\\text{in} \\rightarrow \\text{network}_1 \\rightarrow V_\\text{out} \\rightarrow \\text{network}_2 \\rightarrow \\text{ground}$.\n",
    "\n",
    "Unfortunately this can't be drawn without the use of netlists (which we will explore later), but it can be analyzed.\n",
    "\n",
    "Note that with the LSection, we need to use `Z1oc` instead of `Z`.\n",
    "\n",
    "This is all getting kind of complicated... really, when dealing with circuits like this, netlists are probably the better choice. But more on that later!"
   ]
  },
  {
   "cell_type": "code",
   "execution_count": 21,
   "metadata": {},
   "outputs": [
    {
     "data": {
      "text/latex": [
       "$$1000 - \\frac{1000000 i}{\\omega}$$"
      ],
      "text/plain": [
       "       1000000⋅ⅉ\n",
       "1000 - ─────────\n",
       "           ω    "
      ]
     },
     "execution_count": 21,
     "metadata": {},
     "output_type": "execute_result"
    }
   ],
   "source": [
    "rc_l = lcapy.LSection(lcapy.R(1e3), lcapy.C(1e-6))\n",
    "rc_l.Z1oc.jomega"
   ]
  },
  {
   "cell_type": "markdown",
   "metadata": {},
   "source": [
    "Same poles and zeros, unsurprisingly."
   ]
  },
  {
   "cell_type": "code",
   "execution_count": 22,
   "metadata": {},
   "outputs": [
    {
     "data": {
      "text/plain": [
       "<matplotlib.axes._subplots.AxesSubplot at 0x219ec34c9b0>"
      ]
     },
     "execution_count": 22,
     "metadata": {},
     "output_type": "execute_result"
    },
    {
     "data": {
      "image/png": "[encoded data removed]",
      "text/plain": [
       "<matplotlib.figure.Figure at 0x219ec416208>"
      ]
     },
     "metadata": {},
     "output_type": "display_data"
    }
   ],
   "source": [
    "lcapy.Hs(rc_l.Z1oc).plot()"
   ]
  },
  {
   "cell_type": "markdown",
   "metadata": {},
   "source": [
    "With a bit of work, we can also plot the frequency response on a log-log scale (we can do this symbolically in code!) and compare it to its Bode approximation (we do the linear approximation by hand).\n",
    "\n",
    "Keep in mind that the frequency response takes a frequency, not angular velocity, and $f = 2\\pi \\omega$."
   ]
  },
  {
   "cell_type": "code",
   "execution_count": 23,
   "metadata": {},
   "outputs": [
    {
     "data": {
      "image/png": "[encoded data removed]",
      "text/plain": [
       "<matplotlib.figure.Figure at 0x219ec3f7b38>"
      ]
     },
     "metadata": {},
     "output_type": "display_data"
    }
   ],
   "source": [
    "# Frequency response\n",
    "f = np.logspace(0, 5, 400)\n",
    "Z = rc_l.Z1oc.frequency_response(f)\n",
    "\n",
    "fig = plt.figure()\n",
    "ax = fig.add_subplot(111)\n",
    "ax.loglog(f, abs(Z))\n",
    "ax.set_xlabel('Frequency (Hz)')\n",
    "ax.set_ylabel('Impedance (ohms)')\n",
    "ax.grid(True)\n",
    "\n",
    "# Bode plot\n",
    "def bode_approximation(f):\n",
    "    w = 2 * lcapy.pi * f\n",
    "    if w < 1E3:\n",
    "        return 1E3 * 1E3 / w\n",
    "    else:\n",
    "        return 1E3\n",
    "\n",
    "ax.loglog(f, [bode_approximation(x) for x in f], '-.')\n",
    "\n",
    "plt.show()"
   ]
  },
  {
   "cell_type": "markdown",
   "metadata": {},
   "source": [
    "Let's take a look at a driven RC network (V-R-C network) and its admittance (reciprocal of impedance)."
   ]
  },
  {
   "cell_type": "code",
   "execution_count": 24,
   "metadata": {},
   "outputs": [
    {
     "name": "stdout",
     "output_type": "stream",
     "text": [
      "DEBUG: Trying to compile C:\\Users\\18NEEL~1\\AppData\\Local\\Temp\\tmpzhds_2r5.tex\n",
      "DEBUG: Generated target url starts with 'http://latexonline.cc/compile?text=%5Cdo...'\n",
      "DEBUG: Compiling LaTeX using online API...\n",
      "DEBUG: Downloading service response...\n",
      "DEBUG: Finished downloading compiled LaTeX output\n",
      "DEBUG: Reading PDF binary at C:\\Users\\18NEEL~1\\AppData\\Local\\Temp\\tmpzhds_2r5.pdf into memory...\n",
      "DEBUG: Converting PDF to image using OCF service...\n",
      "DEBUG: Received conversion response (len 13417)\n",
      "\n"
     ]
    },
    {
     "data": {
      "image/jpeg": "[encoded data removed]",
      "text/plain": [
       "<IPython.core.display.Image object>"
      ]
     },
     "metadata": {},
     "output_type": "display_data"
    },
    {
     "data": {
      "text/latex": [
       "$$\\frac{s}{1000 \\left(s + 1000\\right)}$$"
      ],
      "text/plain": [
       "       s       \n",
       "───────────────\n",
       "1000⋅(s + 1000)"
      ]
     },
     "execution_count": 24,
     "metadata": {},
     "output_type": "execute_result"
    }
   ],
   "source": [
    "driven_rc_network = lcapy.Vdc(10) + lcapy.R(1e3) + lcapy.C(1e-6)\n",
    "display(driven_rc_network.draw())\n",
    "driven_rc_network.Y"
   ]
  },
  {
   "cell_type": "markdown",
   "metadata": {},
   "source": [
    "What about the impedance matrix for an R-C low-pass filter?"
   ]
  },
  {
   "cell_type": "code",
   "execution_count": 25,
   "metadata": {},
   "outputs": [
    {
     "data": {
      "text/latex": [
       "$$\\left[\\begin{matrix}1000 + \\frac{1000000}{s}\\\\\\frac{1000000}{s}\\end{matrix}\\right]$$"
      ],
      "text/plain": [
       "⎡       1000000⎤\n",
       "⎢1000 + ───────⎥\n",
       "⎢          s   ⎥\n",
       "⎢              ⎥\n",
       "⎢   1000000    ⎥\n",
       "⎢   ───────    ⎥\n",
       "⎣      s       ⎦"
      ]
     },
     "execution_count": 25,
     "metadata": {},
     "output_type": "execute_result"
    }
   ],
   "source": [
    "rc_divider = lcapy.LSection(lcapy.R(1e3), lcapy.C(1e-6))\n",
    "rc_divider.Zoc"
   ]
  },
  {
   "cell_type": "markdown",
   "metadata": {},
   "source": [
    "You may wonder what would happen if we try to draw `LSection`-based objects? Languish in curiosity no more, for we shall provide you the answer."
   ]
  },
  {
   "cell_type": "code",
   "execution_count": 26,
   "metadata": {},
   "outputs": [
    {
     "name": "stdout",
     "output_type": "stream",
     "text": [
      "ValueError: Cannot generate netlist for two-port objects\n"
     ]
    }
   ],
   "source": [
    "try:\n",
    "    rc_divider.draw()\n",
    "except ValueError as e:\n",
    "    print(f\"ValueError: {e}\")"
   ]
  },
  {
   "cell_type": "markdown",
   "metadata": {},
   "source": [
    "OK, we'll give you a sneak peek of netlists. Yay for actual filter analysis!"
   ]
  },
  {
   "cell_type": "code",
   "execution_count": 27,
   "metadata": {},
   "outputs": [
    {
     "name": "stdout",
     "output_type": "stream",
     "text": [
      "DEBUG: Trying to compile C:\\Users\\18NEEL~1\\AppData\\Local\\Temp\\tmp8xk96gik.tex\n",
      "DEBUG: Generated target url starts with 'http://latexonline.cc/compile?text=%5Cdo...'\n",
      "DEBUG: Compiling LaTeX using online API...\n",
      "DEBUG: Downloading service response...\n",
      "DEBUG: Finished downloading compiled LaTeX output\n",
      "DEBUG: Reading PDF binary at C:\\Users\\18NEEL~1\\AppData\\Local\\Temp\\tmp8xk96gik.pdf into memory...\n",
      "DEBUG: Converting PDF to image using OCF service...\n",
      "DEBUG: Received conversion response (len 15938)\n",
      "\n"
     ]
    },
    {
     "data": {
      "image/jpeg": "[encoded data removed]",
      "text/plain": [
       "<IPython.core.display.Image object>"
      ]
     },
     "execution_count": 27,
     "metadata": {},
     "output_type": "execute_result"
    }
   ],
   "source": [
    "cct = lcapy.Circuit()\n",
    "cct.add(\"\"\"\n",
    "Vi 1 0_1; down\n",
    "C 1 2; right, size=1.5\n",
    "R 2 0; down\n",
    "W 0_1 0; right\n",
    "W 0 0_2; right, size=0.5\n",
    "P1 2_2 0_2; down\n",
    "W 2 2_2;right, size=0.5\"\"\")\n",
    "cct.draw()"
   ]
  },
  {
   "cell_type": "markdown",
   "metadata": {},
   "source": [
    "What's the transfer function of this filter, you may ask?"
   ]
  },
  {
   "cell_type": "code",
   "execution_count": 28,
   "metadata": {},
   "outputs": [
    {
     "data": {
      "text/latex": [
       "$$\\frac{i C R \\omega}{i C R \\omega + 1}$$"
      ],
      "text/plain": [
       "  ⅉ⋅C⋅R⋅ω  \n",
       "───────────\n",
       "ⅉ⋅C⋅R⋅ω + 1"
      ]
     },
     "execution_count": 28,
     "metadata": {},
     "output_type": "execute_result"
    }
   ],
   "source": [
    "H = (cct.R.V.laplace() / cct.Vi.V.laplace()).simplify()\n",
    "H(lcapy.j * lcapy.omega)"
   ]
  },
  {
   "cell_type": "markdown",
   "metadata": {},
   "source": [
    "And just for kicks and giggles, let's rationalize the denominator."
   ]
  },
  {
   "cell_type": "code",
   "execution_count": 29,
   "metadata": {},
   "outputs": [
    {
     "data": {
      "text/latex": [
       "$$\\frac{C^{2} R^{2} \\omega^{2} + i C R \\omega}{C^{2} R^{2} \\omega^{2} + 1}$$"
      ],
      "text/plain": [
       " 2  2  2          \n",
       "C ⋅R ⋅ω  + ⅉ⋅C⋅R⋅ω\n",
       "──────────────────\n",
       "    2  2  2       \n",
       "   C ⋅R ⋅ω  + 1   "
      ]
     },
     "execution_count": 29,
     "metadata": {},
     "output_type": "execute_result"
    }
   ],
   "source": [
    "H(lcapy.j * lcapy.omega).rationalize_denominator()"
   ]
  },
  {
   "cell_type": "markdown",
   "metadata": {},
   "source": [
    "And find its magnitude."
   ]
  },
  {
   "cell_type": "code",
   "execution_count": 30,
   "metadata": {},
   "outputs": [
    {
     "data": {
      "text/latex": [
       "$$\\frac{\\sqrt{C^{4} R^{4} \\omega^{4} + C^{2} R^{2} \\omega^{2}}}{C^{2} R^{2} \\omega^{2} + 1}$$"
      ],
      "text/plain": [
       "   _____________________\n",
       "  ╱  4  4  4    2  2  2 \n",
       "╲╱  C ⋅R ⋅ω  + C ⋅R ⋅ω  \n",
       "────────────────────────\n",
       "       2  2  2          \n",
       "      C ⋅R ⋅ω  + 1      "
      ]
     },
     "execution_count": 30,
     "metadata": {},
     "output_type": "execute_result"
    }
   ],
   "source": [
    "H(lcapy.j * lcapy.omega).magnitude"
   ]
  },
  {
   "cell_type": "markdown",
   "metadata": {},
   "source": [
    "And simplify that nasty expression."
   ]
  },
  {
   "cell_type": "code",
   "execution_count": 31,
   "metadata": {},
   "outputs": [
    {
     "data": {
      "text/latex": [
       "$$\\frac{C R \\left|{\\omega}\\right|}{\\sqrt{C^{2} R^{2} \\omega^{2} + 1}}$$"
      ],
      "text/plain": [
       "     C⋅R⋅│ω│     \n",
       "─────────────────\n",
       "   ______________\n",
       "  ╱  2  2  2     \n",
       "╲╱  C ⋅R ⋅ω  + 1 "
      ]
     },
     "execution_count": 31,
     "metadata": {},
     "output_type": "execute_result"
    }
   ],
   "source": [
    "H(lcapy.j * lcapy.omega).magnitude.simplify()"
   ]
  },
  {
   "cell_type": "markdown",
   "metadata": {},
   "source": [
    "Can't forget about the phase! We'll even do it in degrees, how nice of us."
   ]
  },
  {
   "cell_type": "code",
   "execution_count": 32,
   "metadata": {},
   "outputs": [
    {
     "data": {
      "text/latex": [
       "$$\\frac{180}{\\pi} \\operatorname{atan_{2}}{\\left (1,C R \\omega \\right )}$$"
      ],
      "text/plain": [
       "180⋅atan2(1, C⋅R⋅ω)\n",
       "───────────────────\n",
       "         π         "
      ]
     },
     "execution_count": 32,
     "metadata": {},
     "output_type": "execute_result"
    }
   ],
   "source": [
    "H(lcapy.j * lcapy.omega).phase_degrees"
   ]
  },
  {
   "cell_type": "markdown",
   "metadata": {},
   "source": [
    "And what if we want to plug in some specific values?"
   ]
  },
  {
   "cell_type": "code",
   "execution_count": 33,
   "metadata": {},
   "outputs": [
    {
     "data": {
      "text/latex": [
       "$$\\frac{i \\omega}{i \\omega + 1000}$$"
      ],
      "text/plain": [
       "   ⅉ⋅ω    \n",
       "──────────\n",
       "ⅉ⋅ω + 1000"
      ]
     },
     "execution_count": 33,
     "metadata": {},
     "output_type": "execute_result"
    }
   ],
   "source": [
    "H1 = H.subs({'C': 1e-6, 'R': 1e3})\n",
    "H1(lcapy.j * lcapy.omega).simplify()"
   ]
  },
  {
   "cell_type": "markdown",
   "metadata": {},
   "source": [
    "Since this is 16B after all, we simply must do a Bode plot. Let's go ahead and do one with the actual values (no linear approximations here!) of the transfer function magnitude."
   ]
  },
  {
   "cell_type": "code",
   "execution_count": 34,
   "metadata": {},
   "outputs": [
    {
     "data": {
      "text/plain": [
       "<matplotlib.axes._subplots.AxesSubplot at 0x219ec8643c8>"
      ]
     },
     "execution_count": 34,
     "metadata": {},
     "output_type": "execute_result"
    },
    {
     "data": {
      "image/png": "[encoded data removed]",
      "text/plain": [
       "<matplotlib.figure.Figure at 0x219ec819780>"
      ]
     },
     "metadata": {},
     "output_type": "display_data"
    }
   ],
   "source": [
    "H1(lcapy.j * lcapy.omega).dB.plot(np.logspace(1, 6, 500), log_scale=True)"
   ]
  },
  {
   "cell_type": "markdown",
   "metadata": {},
   "source": [
    "Can't forget about the phase (pro tip: especially on midterms)."
   ]
  },
  {
   "cell_type": "code",
   "execution_count": 35,
   "metadata": {},
   "outputs": [
    {
     "data": {
      "text/plain": [
       "<matplotlib.axes._subplots.AxesSubplot at 0x219ec92af98>"
      ]
     },
     "execution_count": 35,
     "metadata": {},
     "output_type": "execute_result"
    },
    {
     "data": {
      "image/png": "[encoded data removed]",
      "text/plain": [
       "<matplotlib.figure.Figure at 0x219ec27d8d0>"
      ]
     },
     "metadata": {},
     "output_type": "display_data"
    }
   ],
   "source": [
    "H1(lcapy.j * lcapy.omega).phase_degrees.plot(np.logspace(1, 6, 500), log_scale=True)"
   ]
  },
  {
   "cell_type": "markdown",
   "metadata": {},
   "source": [
    "`Lcapy` handles AC with aplomb, as you might expect. Here's a step-function voltage source in series with an R-C network."
   ]
  },
  {
   "cell_type": "code",
   "execution_count": 36,
   "metadata": {},
   "outputs": [
    {
     "name": "stdout",
     "output_type": "stream",
     "text": [
      "DEBUG: Trying to compile C:\\Users\\18NEEL~1\\AppData\\Local\\Temp\\tmp2fs25b3p.tex\n",
      "DEBUG: Generated target url starts with 'http://latexonline.cc/compile?text=%5Cdo...'\n",
      "DEBUG: Compiling LaTeX using online API...\n",
      "DEBUG: Downloading service response...\n",
      "DEBUG: Finished downloading compiled LaTeX output\n",
      "DEBUG: Reading PDF binary at C:\\Users\\18NEEL~1\\AppData\\Local\\Temp\\tmp2fs25b3p.pdf into memory...\n",
      "DEBUG: Converting PDF to image using OCF service...\n",
      "DEBUG: Received conversion response (len 13775)\n",
      "\n"
     ]
    },
    {
     "data": {
      "image/jpeg": "[encoded data removed]",
      "text/plain": [
       "<IPython.core.display.Image object>"
      ]
     },
     "execution_count": 36,
     "metadata": {},
     "output_type": "execute_result"
    }
   ],
   "source": [
    "RCDC = lcapy.Vstep(1) + lcapy.R(1e3) + lcapy.C(1e-6, 0)\n",
    "RCDC.draw()"
   ]
  },
  {
   "cell_type": "markdown",
   "metadata": {},
   "source": [
    "We can find its transient response by calling an entirely unsurprising function name."
   ]
  },
  {
   "cell_type": "code",
   "execution_count": 37,
   "metadata": {},
   "outputs": [
    {
     "data": {
      "text/latex": [
       "$$\\begin{cases} \\frac{1}{1000} e^{- 1000 t} & \\text{for}\\: t \\geq 0 \\end{cases}$$"
      ],
      "text/plain": [
       "⎧ -1000⋅t           \n",
       "⎪ℯ                  \n",
       "⎨────────  for t ≥ 0\n",
       "⎪  1000             \n",
       "⎩                   "
      ]
     },
     "execution_count": 37,
     "metadata": {},
     "output_type": "execute_result"
    }
   ],
   "source": [
    "RCDC.Isc(lcapy.s).transient_response()"
   ]
  },
  {
   "cell_type": "markdown",
   "metadata": {},
   "source": [
    "To progress further, we must now call upon netlists. You will soon fall in love with them (and hate them at times) but the power of netlists cannot be understated. You'll be performing netlist jiu-jitsu in no time!"
   ]
  },
  {
   "cell_type": "markdown",
   "metadata": {},
   "source": [
    "# Netlists\n",
    "\n",
    "Netlists can be used to analyze and draw circuits more precisely, but require use of a brand new input format. Let's jump in with an example, the classic voltage divider. We can construct this circuit, display it, and calculate the value of `x` in terms of other elements -- all using Lcapy. Don't worry about understanding all the code just yet. We'll walk through it step by step.\n",
    "\n",
    "Definitely feel free to look at [the Lcapy documentation](http://lcapy.elec.canterbury.ac.nz) if you're ever confused or want to do even more!"
   ]
  },
  {
   "cell_type": "code",
   "execution_count": 38,
   "metadata": {},
   "outputs": [
    {
     "name": "stdout",
     "output_type": "stream",
     "text": [
      "DEBUG: Trying to compile C:\\Users\\18NEEL~1\\AppData\\Local\\Temp\\tmpu5iq9ksk.tex\n",
      "DEBUG: Generated target url starts with 'http://latexonline.cc/compile?text=%5Cdo...'\n",
      "DEBUG: Compiling LaTeX using online API...\n",
      "DEBUG: Downloading service response...\n",
      "DEBUG: Finished downloading compiled LaTeX output\n",
      "DEBUG: Reading PDF binary at C:\\Users\\18NEEL~1\\AppData\\Local\\Temp\\tmpu5iq9ksk.pdf into memory...\n",
      "DEBUG: Converting PDF to image using OCF service...\n",
      "DEBUG: Received conversion response (len 21048)\n",
      "\n"
     ]
    },
    {
     "data": {
      "image/jpeg": "[encoded data removed]",
      "text/plain": [
       "<IPython.core.display.Image object>"
      ]
     },
     "execution_count": 38,
     "metadata": {},
     "output_type": "execute_result"
    }
   ],
   "source": [
    "voltage_divider = lcapy.Circuit()\n",
    "voltage_divider.add('Vs U1 0 1; down')\n",
    "voltage_divider.add('R1 U1 x 10; right=2')\n",
    "voltage_divider.add('R2 x 3_; down')\n",
    "voltage_divider.add('W 3_ 0; left')\n",
    "voltage_divider.add('W 0 4; down=0.1, ground')\n",
    "voltage_divider.draw()"
   ]
  },
  {
   "cell_type": "code",
   "execution_count": 39,
   "metadata": {},
   "outputs": [
    {
     "data": {
      "text/latex": [
       "$$\\frac{R_{2}}{R_{2} + 10}$$"
      ],
      "text/plain": [
       "   R₂  \n",
       "───────\n",
       "R₂ + 10"
      ]
     },
     "execution_count": 39,
     "metadata": {},
     "output_type": "execute_result"
    }
   ],
   "source": [
    "voltage_divider.x.v"
   ]
  },
  {
   "cell_type": "markdown",
   "metadata": {},
   "source": [
    "## Simple nodes and voltage sources\n",
    "\n",
    "To create a Netlist, we use `lcapy.Circuit()`.\n",
    "\n",
    "We then add components to it using `.add(string)`, where `string` is the description of the component.\n",
    "\n",
    "You could also add all the components at once like so:\n",
    "```python\n",
    "my_netlist.add(\"\"\"\n",
    "line 1\n",
    "line 2 \n",
    "...\n",
    "\"\"\")\n",
    "```\n",
    "\n",
    "This description will generally follow the following format:\n",
    "\n",
    "- `'name to from [value]; [position]'`.\n",
    "\n",
    "The elements in brackets are optional. However, `position` is necessary if we want to draw the circuit.\n",
    "\n",
    "`name` is the name of the circuit element. It will show up in symbolic calculations and be displayed in the drawing. Names beginning with `V` will be voltage sources; use names starting with `R` for resistors (e.g. `R1` or just `R`), `L` for inductors, `C` for capacitors, and `I` for current sources (see also [the documentation for netlists](http://lcapy.elec.canterbury.ac.nz/netlists.html#component-specification)).\n",
    "\n",
    "`from` is the node the circuit element starts at, and `to` is the node it ends at. Note that for voltage sources, the \"+\" is next to `to` and the \"-\" is next to `from`.\n",
    "\n",
    "__How to specify a node name:__\n",
    "- Ground is always `0`\n",
    "- To make a node label hidden, add an underscore somewhere, e.g. `1_`\n",
    "- To make a node label visible, don't use an underscore\n",
    "- Don't use `.` in the node name (see [the documentation](http://lcapy.elec.canterbury.ac.nz/schematics.html#node-names) if you're curious about what `.` actually does)\n",
    "\n",
    "Node values can be specified with exponential notation. For instance, $10 k\\Omega$ would be `10e3`.\n",
    "\n",
    "You can omit node values -- then the answer will be symbolic in terms of `name`. (For some elements this is not so simple; for instance creating a constant voltage source requires a bit more work, as we will see later)\n",
    "\n",
    "Now, a simpler example. Let's create a 3V voltage source."
   ]
  },
  {
   "cell_type": "code",
   "execution_count": 40,
   "metadata": {},
   "outputs": [],
   "source": [
    "voltage_source_1 = lcapy.Circuit()\n",
    "voltage_source_1.add('Vs U1 0 3')"
   ]
  },
  {
   "cell_type": "markdown",
   "metadata": {},
   "source": [
    "But when we try to draw it, something will go horribly wrong."
   ]
  },
  {
   "cell_type": "code",
   "execution_count": 41,
   "metadata": {},
   "outputs": [
    {
     "name": "stdout",
     "output_type": "stream",
     "text": [
      "RuntimeWarning: No schematic drawing hints provided!\n"
     ]
    }
   ],
   "source": [
    "try:\n",
    "    voltage_source_1.draw()\n",
    "except RuntimeWarning as w:\n",
    "    print(f\"RuntimeWarning: {w}\")"
   ]
  },
  {
   "cell_type": "markdown",
   "metadata": {},
   "source": [
    "We need to add the position for it to be drawn. We can use `up`, `down`, `left`, or `right`. That will tell Lcapy how to draw the element -- for instance, if we have a voltage source going `down` from `U1` to `0`, then `U1` will be drawn above `0`, with the voltage source in between them."
   ]
  },
  {
   "cell_type": "code",
   "execution_count": 42,
   "metadata": {},
   "outputs": [],
   "source": [
    "voltage_source_2 = lcapy.Circuit()\n",
    "voltage_source_2.add('Vs U1 0 3; down')"
   ]
  },
  {
   "cell_type": "markdown",
   "metadata": {},
   "source": [
    "This time, drawing will work as expected."
   ]
  },
  {
   "cell_type": "code",
   "execution_count": 43,
   "metadata": {},
   "outputs": [
    {
     "name": "stdout",
     "output_type": "stream",
     "text": [
      "DEBUG: Trying to compile C:\\Users\\18NEEL~1\\AppData\\Local\\Temp\\tmpy6eatxql.tex\n",
      "DEBUG: Generated target url starts with 'http://latexonline.cc/compile?text=%5Cdo...'\n",
      "DEBUG: Compiling LaTeX using online API...\n",
      "DEBUG: Downloading service response...\n",
      "DEBUG: Finished downloading compiled LaTeX output\n",
      "DEBUG: Reading PDF binary at C:\\Users\\18NEEL~1\\AppData\\Local\\Temp\\tmpy6eatxql.pdf into memory...\n",
      "DEBUG: Converting PDF to image using OCF service...\n",
      "DEBUG: Received conversion response (len 9809)\n",
      "\n"
     ]
    },
    {
     "data": {
      "image/jpeg": "[encoded data removed]",
      "text/plain": [
       "<IPython.core.display.Image object>"
      ]
     },
     "execution_count": 43,
     "metadata": {},
     "output_type": "execute_result"
    }
   ],
   "source": [
    "voltage_source_2.draw()"
   ]
  },
  {
   "cell_type": "markdown",
   "metadata": {},
   "source": [
    "Cool! We can use this circuit for analysis as-is. For instance, we can find the voltage at a node.\n",
    "\n",
    "**Evaluating current at a node:**\n",
    "- Get the voltage in a nice format with `netlist_name.node_name.v`\n",
    "\n",
    "Let's see what the voltage is."
   ]
  },
  {
   "cell_type": "code",
   "execution_count": 44,
   "metadata": {},
   "outputs": [
    {
     "data": {
      "text/latex": [
       "$$3$$"
      ],
      "text/plain": [
       "3"
      ]
     },
     "execution_count": 44,
     "metadata": {},
     "output_type": "execute_result"
    }
   ],
   "source": [
    "voltage_source_2.U1.v"
   ]
  },
  {
   "cell_type": "markdown",
   "metadata": {},
   "source": [
    "Pretty good! But what if we wanted to find the voltage in terms of $V_s$?\n",
    "\n",
    "If we leave the value blank, `lcapy` will treat it as a non-constant voltage source and give us voltage as a function of time."
   ]
  },
  {
   "cell_type": "code",
   "execution_count": 45,
   "metadata": {},
   "outputs": [
    {
     "name": "stdout",
     "output_type": "stream",
     "text": [
      "DEBUG: Trying to compile C:\\Users\\18NEEL~1\\AppData\\Local\\Temp\\tmpswssijnd.tex\n",
      "DEBUG: Generated target url starts with 'http://latexonline.cc/compile?text=%5Cdo...'\n",
      "DEBUG: Compiling LaTeX using online API...\n",
      "DEBUG: Downloading service response...\n",
      "DEBUG: Finished downloading compiled LaTeX output\n",
      "DEBUG: Reading PDF binary at C:\\Users\\18NEEL~1\\AppData\\Local\\Temp\\tmpswssijnd.pdf into memory...\n",
      "DEBUG: Converting PDF to image using OCF service...\n",
      "DEBUG: Received conversion response (len 8491)\n",
      "\n"
     ]
    },
    {
     "data": {
      "image/jpeg": "[encoded data removed]",
      "text/plain": [
       "<IPython.core.display.Image object>"
      ]
     },
     "execution_count": 45,
     "metadata": {},
     "output_type": "execute_result"
    }
   ],
   "source": [
    "voltage_source_3 = lcapy.Circuit()\n",
    "voltage_source_3.add('Vs U1 0; down')\n",
    "voltage_source_3.draw()"
   ]
  },
  {
   "cell_type": "code",
   "execution_count": 46,
   "metadata": {},
   "outputs": [
    {
     "data": {
      "text/latex": [
       "$$\\mathrm{vs}{\\left (t \\right )}$$"
      ],
      "text/plain": [
       "vs(t)"
      ]
     },
     "execution_count": 46,
     "metadata": {},
     "output_type": "execute_result"
    }
   ],
   "source": [
    "voltage_source_3.U1.v"
   ]
  },
  {
   "cell_type": "markdown",
   "metadata": {},
   "source": [
    "### DC voltage source\n",
    "\n",
    "To get a DC voltage source, we need to tell `lcapy` that the voltage source is constant.\n",
    "\n",
    "To do this, we make the value `dc name`, where `name` is the variable we are using to represent the value of $V_s$. \n",
    "\n",
    "We recommend just reusing the name `Vs` for clarity."
   ]
  },
  {
   "cell_type": "code",
   "execution_count": 47,
   "metadata": {},
   "outputs": [
    {
     "name": "stdout",
     "output_type": "stream",
     "text": [
      "DEBUG: Trying to compile C:\\Users\\18NEEL~1\\AppData\\Local\\Temp\\tmpo6624_hp.tex\n",
      "DEBUG: Generated target url starts with 'http://latexonline.cc/compile?text=%5Cdo...'\n",
      "DEBUG: Compiling LaTeX using online API...\n",
      "DEBUG: Downloading service response...\n",
      "DEBUG: Finished downloading compiled LaTeX output\n",
      "DEBUG: Reading PDF binary at C:\\Users\\18NEEL~1\\AppData\\Local\\Temp\\tmpo6624_hp.pdf into memory...\n",
      "DEBUG: Converting PDF to image using OCF service...\n",
      "DEBUG: Received conversion response (len 9678)\n",
      "\n"
     ]
    },
    {
     "data": {
      "image/jpeg": "[encoded data removed]",
      "text/plain": [
       "<IPython.core.display.Image object>"
      ]
     },
     "execution_count": 47,
     "metadata": {},
     "output_type": "execute_result"
    }
   ],
   "source": [
    "voltage_source_4 = lcapy.Circuit()\n",
    "voltage_source_4.add('Vs U1 0 dc Vs; down')\n",
    "voltage_source_4.draw()"
   ]
  },
  {
   "cell_type": "code",
   "execution_count": 48,
   "metadata": {},
   "outputs": [
    {
     "data": {
      "text/latex": [
       "$$Vs$$"
      ],
      "text/plain": [
       "Vₛ"
      ]
     },
     "execution_count": 48,
     "metadata": {},
     "output_type": "execute_result"
    }
   ],
   "source": [
    "voltage_source_4.U1.v"
   ]
  },
  {
   "cell_type": "markdown",
   "metadata": {},
   "source": [
    "### Variable voltage source\n",
    "\n",
    "What if we actually wanted to make our voltage some specific function?\n",
    "\n",
    "We can do this by just putting a function of `t` in for value! We will need to enclose it in `{}`, so for instance, $\\sin(t^2) + t$ would become `{sin(t**2) + t}`."
   ]
  },
  {
   "cell_type": "code",
   "execution_count": 49,
   "metadata": {},
   "outputs": [
    {
     "name": "stdout",
     "output_type": "stream",
     "text": [
      "DEBUG: Trying to compile C:\\Users\\18NEEL~1\\AppData\\Local\\Temp\\tmpeggj3jc7.tex\n",
      "DEBUG: Generated target url starts with 'http://latexonline.cc/compile?text=%5Cdo...'\n",
      "DEBUG: Compiling LaTeX using online API...\n",
      "DEBUG: Downloading service response...\n",
      "DEBUG: Finished downloading compiled LaTeX output\n",
      "DEBUG: Reading PDF binary at C:\\Users\\18NEEL~1\\AppData\\Local\\Temp\\tmpeggj3jc7.pdf into memory...\n",
      "DEBUG: Converting PDF to image using OCF service...\n",
      "DEBUG: Received conversion response (len 11796)\n",
      "\n"
     ]
    },
    {
     "data": {
      "image/jpeg": "[encoded data removed]",
      "text/plain": [
       "<IPython.core.display.Image object>"
      ]
     },
     "execution_count": 49,
     "metadata": {},
     "output_type": "execute_result"
    }
   ],
   "source": [
    "voltage_source_4 = lcapy.Circuit()\n",
    "voltage_source_4.add('Vs U1 0 {sin(t**2) + t}; down')\n",
    "voltage_source_4.draw()"
   ]
  },
  {
   "cell_type": "markdown",
   "metadata": {},
   "source": [
    "To get the value of U1 at a given time, we can just evaluate the transient response at that time (and at a few selected points, just to show you how it's done). Note that we use `V` instead of `v` here."
   ]
  },
  {
   "cell_type": "code",
   "execution_count": 50,
   "metadata": {},
   "outputs": [
    {
     "data": {
      "text/latex": [
       "$$t + \\sin{\\left (t^{2} \\right )}$$"
      ],
      "text/plain": [
       "       ⎛ 2⎞\n",
       "t + sin⎝t ⎠"
      ]
     },
     "metadata": {},
     "output_type": "display_data"
    },
    {
     "name": "stdout",
     "output_type": "stream",
     "text": [
      "0 0.0\n",
      "1 1.8414709848078965\n",
      "2 1.2431975046920718\n",
      "3 3.4121184852417565\n"
     ]
    },
    {
     "data": {
      "image/png": "[encoded data removed]",
      "text/plain": [
       "<matplotlib.figure.Figure at 0x219ec855780>"
      ]
     },
     "metadata": {},
     "output_type": "display_data"
    }
   ],
   "source": [
    "# Display the actual transient response\n",
    "display(voltage_source_4.U1.V.transient_response())\n",
    "\n",
    "# Print a few sample points\n",
    "for i in range(0, 4):\n",
    "    print(i, voltage_source_4.U1.V.transient_response(i))\n",
    "\n",
    "# Plot the exact transient response\n",
    "x_vals = np.arange(0.0, 10.0, 0.1)\n",
    "y_vals = voltage_source_4.U1.V.transient_response(x_vals)\n",
    "plt.plot(x_vals, y_vals)\n",
    "plt.show()"
   ]
  },
  {
   "cell_type": "markdown",
   "metadata": {},
   "source": [
    "### AC voltage sources\n",
    "\n",
    "If we just want a regular sinusoidal input, we can simply use `ac A phase w` with appropriate values for amplitude ($A$), phase ($\\phi$), and angular velocity ($\\omega$).\n",
    "\n",
    "If you want to be able to evaluate the transfer function in terms of $\\omega$, which we will explore in a later exercise, just use `ac A phase`."
   ]
  },
  {
   "cell_type": "code",
   "execution_count": 51,
   "metadata": {},
   "outputs": [
    {
     "name": "stdout",
     "output_type": "stream",
     "text": [
      "DEBUG: Trying to compile C:\\Users\\18NEEL~1\\AppData\\Local\\Temp\\tmpjoft2855.tex\n",
      "DEBUG: Generated target url starts with 'http://latexonline.cc/compile?text=%5Cdo...'\n",
      "DEBUG: Compiling LaTeX using online API...\n",
      "DEBUG: Downloading service response...\n",
      "DEBUG: Finished downloading compiled LaTeX output\n",
      "DEBUG: Reading PDF binary at C:\\Users\\18NEEL~1\\AppData\\Local\\Temp\\tmpjoft2855.pdf into memory...\n",
      "DEBUG: Converting PDF to image using OCF service...\n",
      "DEBUG: Received conversion response (len 9427)\n",
      "\n"
     ]
    },
    {
     "data": {
      "image/jpeg": "[encoded data removed]",
      "text/plain": [
       "<IPython.core.display.Image object>"
      ]
     },
     "execution_count": 51,
     "metadata": {},
     "output_type": "execute_result"
    }
   ],
   "source": [
    "voltage_source_5 = lcapy.Circuit()\n",
    "voltage_source_5.add('Vs U1 0 ac A B C; down')\n",
    "voltage_source_5.draw()"
   ]
  },
  {
   "cell_type": "markdown",
   "metadata": {},
   "source": [
    "Where would you expect A, B, and C to show up in the time-domain voltage expression? Check your answer against the result."
   ]
  },
  {
   "cell_type": "code",
   "execution_count": 52,
   "metadata": {},
   "outputs": [
    {
     "data": {
      "text/latex": [
       "$$A \\cos{\\left (B + C t \\right )}$$"
      ],
      "text/plain": [
       "A⋅cos(B + C⋅t)"
      ]
     },
     "execution_count": 52,
     "metadata": {},
     "output_type": "execute_result"
    }
   ],
   "source": [
    "voltage_source_5.U1.v"
   ]
  },
  {
   "cell_type": "markdown",
   "metadata": {},
   "source": [
    "As a side note, we can get the phasor using the capital letter `.V` instead of the lowecase letter `.v`.\n",
    "\n",
    "Actually, `.V` can be used in place of `.v` in other situations. Try it out! See which one you prefer."
   ]
  },
  {
   "cell_type": "code",
   "execution_count": 53,
   "metadata": {},
   "outputs": [
    {
     "data": {
      "text/plain": [
       "⎧      ⅉ⋅B⎫\n",
       "⎨C: A⋅ℯ   ⎬\n",
       "⎩         ⎭"
      ]
     },
     "execution_count": 53,
     "metadata": {},
     "output_type": "execute_result"
    }
   ],
   "source": [
    "voltage_source_5.U1.V"
   ]
  },
  {
   "cell_type": "markdown",
   "metadata": {},
   "source": [
    "## Exercise 1. Voltage source analysis.\n",
    "\n",
    "Here is a simple exercise to get you started with netlists.\n",
    "\n",
    "Create a DC voltage source with $V_s = 5 mV$ and evaluate the DC voltage at ground and $U_1$."
   ]
  },
  {
   "cell_type": "code",
   "execution_count": 54,
   "metadata": {},
   "outputs": [],
   "source": [
    "my_circuit = lcapy.Circuit()\n",
    "# my_circuit.add(?) # TODO: Complete and uncomment this line"
   ]
  },
  {
   "cell_type": "code",
   "execution_count": 55,
   "metadata": {},
   "outputs": [],
   "source": [
    "# TODO: Draw the circuit\n"
   ]
  },
  {
   "cell_type": "code",
   "execution_count": 56,
   "metadata": {},
   "outputs": [],
   "source": [
    "# TODO: Evaluate the DC voltage at U1\n"
   ]
  },
  {
   "cell_type": "markdown",
   "metadata": {},
   "source": [
    "## Adding the resistors.\n",
    "\n",
    "Now that you understand the basic netlist syntax, we can try adding more elements.\n",
    "\n",
    "Let's say we want to connect a resistor to our voltage source. We just need to specify that it should start at the node where the voltage source ended and go off to the right.\n",
    "\n",
    "To prevent collisions with the voltage source label, I'll give some extra space by specifying `right=2`.\n",
    "\n",
    "### Exercise 2. Completing the Voltage Divider\n",
    "\n",
    "1. Add a $2 k\\Omega$ resistor R2 going down from x to a new hidden node, such as `3_`. (If you try to connect it to ground directly, you will get an error).\n",
    "2. Add a wire going from the new hidden node to ground. The format for a wire is `'W to to from direction'`\n",
    "3. Add the grounding symbol if you want (it's purely decorative). This one's pretty formulaic, just make sure to pick the appropriate `from` and `to` nodes: `voltage_divider.add('W to from; down=0.1, ground')`\n",
    "4. Analyze your circuit -- find the voltage at x."
   ]
  },
  {
   "cell_type": "code",
   "execution_count": 57,
   "metadata": {},
   "outputs": [
    {
     "name": "stdout",
     "output_type": "stream",
     "text": [
      "DEBUG: Trying to compile C:\\Users\\18NEEL~1\\AppData\\Local\\Temp\\tmppn8zidtl.tex\n",
      "DEBUG: Generated target url starts with 'http://latexonline.cc/compile?text=%5Cdo...'\n",
      "DEBUG: Compiling LaTeX using online API...\n",
      "DEBUG: Downloading service response...\n",
      "DEBUG: Finished downloading compiled LaTeX output\n",
      "DEBUG: Reading PDF binary at C:\\Users\\18NEEL~1\\AppData\\Local\\Temp\\tmppn8zidtl.pdf into memory...\n",
      "DEBUG: Converting PDF to image using OCF service...\n",
      "DEBUG: Received conversion response (len 15745)\n",
      "\n"
     ]
    },
    {
     "data": {
      "image/jpeg": "[encoded data removed]",
      "text/plain": [
       "<IPython.core.display.Image object>"
      ]
     },
     "execution_count": 57,
     "metadata": {},
     "output_type": "execute_result"
    }
   ],
   "source": [
    "voltage_divider = lcapy.Circuit()\n",
    "voltage_divider.add('Vs U1 0 dc Vs; down')\n",
    "voltage_divider.add('R1 U1 x 1e3; right=2')\n",
    "# TODO: Add R2\n",
    "# TODO: Add wire\n",
    "voltage_divider.draw()"
   ]
  },
  {
   "cell_type": "code",
   "execution_count": 58,
   "metadata": {},
   "outputs": [],
   "source": [
    "# TODO: Find voltage at x\n"
   ]
  },
  {
   "cell_type": "markdown",
   "metadata": {},
   "source": [
    "## Excercise 3: Inductors and Capacitors\n",
    "\n",
    "Here is a voltage divider circuit. Modify it so that it becomes an LC circuit with $L=1 mH$ and $C = 1 \\mu F$ and plot the frequency response.\n",
    "\n",
    "Tip: `R1` will create a resistor called R1; `L2` will create an inductor called L2test; `C3` will create a capacitor called C3 and so on...\n",
    "\n",
    "Also take a look at how we've set up the AC voltage source. We've set the amplitude as 1 and phase as 0, but we have NOT provided any value for $w$. The reason we did that is so that we can evaluate the phasor for $x$ at any frequency we choose. We will show how to do this momentarily."
   ]
  },
  {
   "cell_type": "code",
   "execution_count": 59,
   "metadata": {
    "scrolled": true
   },
   "outputs": [
    {
     "name": "stdout",
     "output_type": "stream",
     "text": [
      "DEBUG: Trying to compile C:\\Users\\18NEEL~1\\AppData\\Local\\Temp\\tmpdrya6or6.tex\n",
      "DEBUG: Generated target url starts with 'http://latexonline.cc/compile?text=%5Cdo...'\n",
      "DEBUG: Compiling LaTeX using online API...\n",
      "DEBUG: Downloading service response...\n",
      "DEBUG: Finished downloading compiled LaTeX output\n",
      "DEBUG: Reading PDF binary at C:\\Users\\18NEEL~1\\AppData\\Local\\Temp\\tmpdrya6or6.pdf into memory...\n",
      "DEBUG: Converting PDF to image using OCF service...\n",
      "DEBUG: Received conversion response (len 21121)\n",
      "\n"
     ]
    },
    {
     "data": {
      "image/jpeg": "[encoded data removed]",
      "text/plain": [
       "<IPython.core.display.Image object>"
      ]
     },
     "execution_count": 59,
     "metadata": {},
     "output_type": "execute_result"
    }
   ],
   "source": [
    "lc = lcapy.Circuit()\n",
    "lc.add('Vs U1 0 ac 1 0; down')\n",
    "lc.add('R1 U1 x 10; right=2') # TODO: Modify this line\n",
    "lc.add('R2 x 3_; down') # TODO: Modify this line\n",
    "lc.add('W 3_ 0; left')\n",
    "lc.add('W 0 4; down=0.1, ground')\n",
    "lc.draw()"
   ]
  },
  {
   "cell_type": "markdown",
   "metadata": {},
   "source": [
    "Try using `.v` and `.V`. What is the difference? Which one is more helpful? Also try `.v.phasor()`."
   ]
  },
  {
   "cell_type": "code",
   "execution_count": 60,
   "metadata": {},
   "outputs": [],
   "source": [
    "# TODO: Find the value of x\n"
   ]
  },
  {
   "cell_type": "markdown",
   "metadata": {},
   "source": [
    "Fill in the frequency response function and the Bode approximation. See if they match what you'd expect. Where is the error maximized? Is the phase interesting or boring? Why?\n",
    "\n",
    "A couple notes here:\n",
    "\n",
    "We need to convert frequency to angular velocity for the Bode approximation but also for the so-called 'frequency response'.\n",
    "\n",
    "The reason for this is that we are evaluating the phasor form, which takes $w$ rather than $f$ as an argument.\n",
    "\n",
    "You can use `netlist.node.v.phasor().magnitude.evaluate(w)` and `netlist.node.v.phasor().phase.evaluate(w)` to get the magnitude and phase of the voltage frequency response of node `node` of netlist `netlist` at angular velocity `w`"
   ]
  },
  {
   "cell_type": "code",
   "execution_count": 61,
   "metadata": {},
   "outputs": [
    {
     "ename": "SyntaxError",
     "evalue": "invalid syntax (<ipython-input-61-efaf3508b97c>, line 4)",
     "output_type": "error",
     "traceback": [
      "\u001b[1;36m  File \u001b[1;32m\"<ipython-input-61-efaf3508b97c>\"\u001b[1;36m, line \u001b[1;32m4\u001b[0m\n\u001b[1;33m    return ?\u001b[0m\n\u001b[1;37m           ^\u001b[0m\n\u001b[1;31mSyntaxError\u001b[0m\u001b[1;31m:\u001b[0m invalid syntax\n"
     ]
    }
   ],
   "source": [
    "# TODO: Fill in the ?'s\n",
    "\n",
    "def angular_velocity(frequency):\n",
    "    return ?\n",
    "\n",
    "def frequency_response_magnitude(f):\n",
    "    w = ?\n",
    "    return ?\n",
    "\n",
    "def bode_plot_magnitude(f):\n",
    "    w = angular_velocity(f)\n",
    "    if w < ?:\n",
    "        return ?\n",
    "    else:\n",
    "        return ?\n",
    "\n",
    "f = np.logspace(0, 18, 400)\n",
    "Z = frequency_response_magnitude(f)\n",
    "\n",
    "fig = plt.figure()\n",
    "ax = fig.add_subplot(111)\n",
    "ax.loglog(f, abs(Z))\n",
    "ax.set_xlabel('Frequency (Hz)')\n",
    "ax.set_ylabel('Impedance (ohms)')\n",
    "ax.grid(True)\n",
    "\n",
    "ax.loglog(f, [bode_plot_magnitude(x) for x in f], '-.')\n",
    "\n",
    "plt.show()"
   ]
  },
  {
   "cell_type": "code",
   "execution_count": null,
   "metadata": {},
   "outputs": [],
   "source": [
    "# TODO: Fill in the ?'s\n",
    "\n",
    "def frequency_response_phase(f):\n",
    "    w = ?\n",
    "    return ?\n",
    "\n",
    "def bode_plot_phase(f):\n",
    "    return ?\n",
    "\n",
    "f = np.logspace(0, 18, 400)\n",
    "Phase = frequency_response_phase(f)\n",
    "\n",
    "fig = plt.figure()\n",
    "ax = fig.add_subplot(111)\n",
    "ax.set_xscale(\"log\")\n",
    "ax.set_yscale(\"linear\")\n",
    "ax.plot(f, frequency_response_phase(f))\n",
    "ax.set_xlabel('Frequency (Hz)')\n",
    "ax.set_ylabel('Angle')\n",
    "ax.grid(True)\n",
    "\n",
    "ax.plot(f, [bode_plot_phase(x) for x in f], '-.')\n",
    "\n",
    "plt.show()"
   ]
  },
  {
   "cell_type": "markdown",
   "metadata": {},
   "source": [
    "Here is a faster way of plotting the phase. Take a look at the code and see how it differs from the example above.\n",
    "\n",
    "A lot cleaner, isn't it? We will see another example of this technique later in the notebook."
   ]
  },
  {
   "cell_type": "code",
   "execution_count": null,
   "metadata": {},
   "outputs": [],
   "source": [
    "f = np.logspace(0, 18, 400)\n",
    "\n",
    "ax = lc.x.v(lcapy.j * lcapy.omega).phase_degrees.plot(f, log_frequency=True)\n",
    "ax.plot(f, [0 for x in f], '-.') # Bode approximation\n",
    "\n",
    "plt.show()"
   ]
  },
  {
   "cell_type": "markdown",
   "metadata": {},
   "source": [
    "# Solution to exercise 3"
   ]
  },
  {
   "cell_type": "code",
   "execution_count": null,
   "metadata": {
    "scrolled": true
   },
   "outputs": [],
   "source": [
    "lc = lcapy.Circuit()\n",
    "lc.add('Vs U1 0 ac 1 0; down')\n",
    "lc.add('L U1 x 1e-3; right=2') # TODO: Modify this line\n",
    "lc.add('C x 3_ 1e-6; down') # TODO: Modify this line\n",
    "lc.add('W 3_ 0; left')\n",
    "lc.add('W 0 4; down=0.1, ground')\n",
    "lc.draw()"
   ]
  },
  {
   "cell_type": "code",
   "execution_count": null,
   "metadata": {},
   "outputs": [],
   "source": [
    "lc.x.v"
   ]
  },
  {
   "cell_type": "code",
   "execution_count": null,
   "metadata": {},
   "outputs": [],
   "source": [
    "lc.x.V"
   ]
  },
  {
   "cell_type": "code",
   "execution_count": null,
   "metadata": {},
   "outputs": [],
   "source": [
    "lc.x.v.phasor()"
   ]
  },
  {
   "cell_type": "markdown",
   "metadata": {},
   "source": [
    "Fill in the frequency response function and the Bode approximation. See if they match what you'd expect."
   ]
  },
  {
   "cell_type": "code",
   "execution_count": null,
   "metadata": {},
   "outputs": [],
   "source": [
    "def angular_velocity(frequency):\n",
    "    return 2 * lcapy.pi * frequency # TODO: Fill this in\n",
    "\n",
    "def frequency_response_magnitude(f):\n",
    "    w = angular_velocity(f)\n",
    "    return lc.x.v.phasor().magnitude.evaluate(w)\n",
    "\n",
    "def bode_plot_magnitude(f):\n",
    "    w = angular_velocity(f)\n",
    "    if w < np.sqrt(1E9): # TODO: Fill in the ?\n",
    "        return 1 # TODO: Fill in the ?\n",
    "    else:\n",
    "        return 1 / (w**2 * 1E-9)\n",
    "\n",
    "f = np.logspace(0, 18, 400)\n",
    "Z = frequency_response_magnitude(f)\n",
    "\n",
    "fig = plt.figure()\n",
    "ax = fig.add_subplot(111)\n",
    "ax.loglog(f, abs(Z))\n",
    "ax.set_xlabel('Frequency (Hz)')\n",
    "ax.set_ylabel('Impedance (ohms)')\n",
    "ax.grid(True)\n",
    "\n",
    "ax.loglog(f, [bode_plot_magnitude(x) for x in f], '-.')\n",
    "\n",
    "plt.show()"
   ]
  },
  {
   "cell_type": "code",
   "execution_count": null,
   "metadata": {},
   "outputs": [],
   "source": [
    "def frequency_response_phase(f):\n",
    "    w = angular_velocity(f)\n",
    "    return lc.x.v.phasor().phase.evaluate(w)\n",
    "\n",
    "def bode_plot_phase(f):\n",
    "    return 0\n",
    "\n",
    "f = np.logspace(0, 18, 400)\n",
    "Phase = frequency_response_phase(f)\n",
    "\n",
    "fig = plt.figure()\n",
    "ax = fig.add_subplot(111)\n",
    "ax.set_xscale(\"log\")\n",
    "ax.set_yscale(\"linear\")\n",
    "ax.plot(f, frequency_response_phase(f))\n",
    "ax.set_xlabel('Frequency (Hz)')\n",
    "ax.set_ylabel('Angle')\n",
    "ax.grid(True)\n",
    "\n",
    "ax.plot(f, [bode_plot_phase(x) for x in f], '-.')\n",
    "\n",
    "plt.show()"
   ]
  },
  {
   "cell_type": "markdown",
   "metadata": {},
   "source": [
    "# Netlist-level circuits\n",
    "### The Good Ol' RLC Circuit\n",
    "Now that you're masters at netlists, let's use them to analyze even more interesting circuits from lecture and homework! First, let's take a look at the basic series RLC circuit."
   ]
  },
  {
   "cell_type": "markdown",
   "metadata": {},
   "source": [
    "In this case, our element of interest is the inductor; notice that we have denoted the voltage drop across the inductor to be given by node $v$, which connects straight to ground."
   ]
  },
  {
   "cell_type": "code",
   "execution_count": null,
   "metadata": {},
   "outputs": [],
   "source": [
    "RLC_SeriesL = lcapy.Circuit()\n",
    "RLC_SeriesL.add(\"\"\"\n",
    "Vi 1_ 0; down\n",
    "R 1_ 2_; right, size=1.5\n",
    "C 2_ v; right, size = 1.5\n",
    "L v 0_3; down, size = 1.5\n",
    "W 0 0_3; right\n",
    "W 0_3 0_2; right, size=0.5\n",
    "P1 2_2 0_2; down\n",
    "W v 2_2;right, size=0.5\n",
    "W 0 6; down=0.1, ground\"\"\")\n",
    "RLC_SeriesL.draw()"
   ]
  },
  {
   "cell_type": "markdown",
   "metadata": {},
   "source": [
    "Now, it's time to use this diagram to our advantage. As we've seen already, the usage of `lcapy` makes a circuit like this incredibly easy to analyze. For now, we'll settle for calculating the transfer function across $L$.\n",
    "\n",
    "Note we use a **different method to calculate the transfer function here** than we did in the prior examples.\n",
    "\n",
    "`Lcapy` is very powerful and there are many ways to do the same thing.\n",
    "Here, we use the \"Laplace\" transform (which gives us an answer in terms of $s$) and then convert it to be in terms of $j\\omega$. See the code sample below to learn how this can be done."
   ]
  },
  {
   "cell_type": "code",
   "execution_count": null,
   "metadata": {},
   "outputs": [],
   "source": [
    "H = (RLC_SeriesL.L.V.laplace() / RLC_SeriesL.Vi.V.laplace()).simplify()\n",
    "H(lcapy.j * lcapy.omega)"
   ]
  },
  {
   "cell_type": "markdown",
   "metadata": {},
   "source": [
    "Now, we have the same circuit, but let's take a look at it from a slightly different perspective, with $C$ as our component of interest. \n",
    "\n",
    "The best way to convince yourself of the power of this sort of analysis is to try and do it out by hand, and then compare the time taken with using the given module. \n",
    "\n",
    "As you gain practice with the syntax of this module, using the examples provided as a guide, your analysis potential will grow unbounded."
   ]
  },
  {
   "cell_type": "code",
   "execution_count": null,
   "metadata": {},
   "outputs": [],
   "source": [
    "RLC_SeriesC = lcapy.Circuit()\n",
    "RLC_SeriesC.add(\"\"\"\n",
    "Vi 1 0; down\n",
    "R 1 2; right, size=1.5\n",
    "L 2 v; right, size = 1.5\n",
    "C v 0_3; down, size = 1.5\n",
    "W 0 0_3; right\n",
    "W 0_3 0_2; right, size=0.5\n",
    "P1 2_2 0_2; down\n",
    "W v 2_2;right, size=0.5\n",
    "W 0 6; down=0.1, ground\"\"\")\n",
    "RLC_SeriesC.draw()"
   ]
  },
  {
   "cell_type": "markdown",
   "metadata": {},
   "source": [
    "Predictions for the transfer function across $C$?\n",
    "\n",
    "\n",
    "### Mini exercise\n",
    "Try filling in the code to produce the transfer function yourself, to get some practice with the alternate method. If you get stuck, refer to the example from the previous circuit... or scroll down to see the answer."
   ]
  },
  {
   "cell_type": "code",
   "execution_count": null,
   "metadata": {},
   "outputs": [],
   "source": [
    "H = ?\n",
    "H(?)"
   ]
  },
  {
   "cell_type": "markdown",
   "metadata": {},
   "source": [
    "Try it yourself first!\n",
    "...  \n",
    "...  \n",
    "...  \n",
    "...  \n",
    "...  \n",
    "...  \n",
    "...  \n",
    "...  \n",
    "...  \n",
    "...  \n",
    "...  \n",
    "...  \n",
    "...  \n",
    "...  \n",
    "...  \n",
    "...  \n",
    "...  \n",
    "...  \n",
    "...  \n",
    "...  \n",
    "...  \n",
    "...  \n",
    "...  \n",
    "...  \n",
    "...  \n",
    "...  \n",
    "...  \n",
    "...  \n",
    "...  \n",
    "...  \n",
    "Okay, here's the answer."
   ]
  },
  {
   "cell_type": "code",
   "execution_count": null,
   "metadata": {},
   "outputs": [],
   "source": [
    "H = (RLC_SeriesC.C.V.laplace() / RLC_SeriesC.Vi.V.laplace()).simplify()\n",
    "H(lcapy.j * lcapy.omega)"
   ]
  },
  {
   "cell_type": "markdown",
   "metadata": {},
   "source": [
    "Well, was the answer you found by hand correct? If not, that's ok! This notebook is also designed to teach you how to create your own examples and problems on the fly, making this a great resource for studying for exams. If you can create an unwieldy circuit using this module, analyze it by hand, and confirm your results with the notebook's calculations, you'll be very well prepared."
   ]
  },
  {
   "cell_type": "markdown",
   "metadata": {},
   "source": [
    "For a sense of completion now, let's analyze the circuit one last time, with R as our final element of interest."
   ]
  },
  {
   "cell_type": "code",
   "execution_count": null,
   "metadata": {},
   "outputs": [],
   "source": [
    "RLC_SeriesR = lcapy.Circuit()\n",
    "RLC_SeriesR.add(\"\"\"\n",
    "Vi 1 0; down\n",
    "L 1 2; right, size=1.5\n",
    "C 2 v; right, size = 1.5\n",
    "R v 0_3; down, size = 1.5\n",
    "W 0 0_3; right\n",
    "W 0_3 0_2; right, size=0.5\n",
    "P1 2_2 0_2; down\n",
    "W v 2_2;right, size=0.5\n",
    "W 0 6; down=0.1, ground\"\"\")\n",
    "RLC_SeriesR.draw()"
   ]
  },
  {
   "cell_type": "markdown",
   "metadata": {},
   "source": [
    "Well, does the transfer function match our expectations?"
   ]
  },
  {
   "cell_type": "code",
   "execution_count": null,
   "metadata": {},
   "outputs": [],
   "source": [
    "H = (RLC_SeriesR.R.V.laplace() / RLC_SeriesR.Vi.V.laplace()).simplify()\n",
    "H(lcapy.j * lcapy.omega)"
   ]
  },
  {
   "cell_type": "markdown",
   "metadata": {},
   "source": [
    "Now that you've had some practice with using the notebook and doing some independent calculations, let's go through a quick conceptual check. Our goal in this example is to find the transfer functions across all three elements. Go ahead, run the block below."
   ]
  },
  {
   "cell_type": "code",
   "execution_count": null,
   "metadata": {},
   "outputs": [],
   "source": [
    "RLC_ParallelAll = lcapy.Circuit()\n",
    "RLC_ParallelAll.add(\"\"\"\n",
    "Vi 1 0; down\n",
    "W 1 2; right, size=1.5\n",
    "L 2 8_; down\n",
    "W 2 3; right\n",
    "C 3 9_; down, size = 1.5\n",
    "W 3 4; right\n",
    "R 4 5_; down, size = 1.5\n",
    "W 0 8_; right\n",
    "W 8_ 9_; right\n",
    "W 9_ 5_; right\n",
    "W 0 6; down = 0.1, ground\"\"\")\n",
    "RLC_ParallelAll.draw()"
   ]
  },
  {
   "cell_type": "markdown",
   "metadata": {},
   "source": [
    "Well, how long would you need to find all three transfer functions? When you have your answers, compare them with those below."
   ]
  },
  {
   "cell_type": "code",
   "execution_count": null,
   "metadata": {},
   "outputs": [],
   "source": [
    "H = (RLC_ParallelAll.C.V.laplace() / RLC_ParallelAll.Vi.V.laplace()).simplify()\n",
    "H(lcapy.j * lcapy.omega)"
   ]
  },
  {
   "cell_type": "code",
   "execution_count": null,
   "metadata": {},
   "outputs": [],
   "source": [
    "H = (RLC_ParallelAll.L.V.laplace() / RLC_ParallelAll.Vi.V.laplace()).simplify()\n",
    "H(lcapy.j * lcapy.omega)"
   ]
  },
  {
   "cell_type": "code",
   "execution_count": null,
   "metadata": {},
   "outputs": [],
   "source": [
    "H = (RLC_ParallelAll.R.V.laplace() / RLC_ParallelAll.Vi.V.laplace()).simplify()\n",
    "H(lcapy.j * lcapy.omega)"
   ]
  },
  {
   "cell_type": "markdown",
   "metadata": {},
   "source": [
    "Are you surprised that they're all 1? Does this make sense? Looking at the circuit above, all of the elements are connected in parallel with the voltage source, so indeed, the transfer function should be identity in all cases! "
   ]
  },
  {
   "cell_type": "markdown",
   "metadata": {},
   "source": [
    "Now for a slightly more challenging example. Using the intution gained in the previous circuit examples, try to analyze the circuit below."
   ]
  },
  {
   "cell_type": "code",
   "execution_count": null,
   "metadata": {},
   "outputs": [],
   "source": [
    "RLC_ParallelC = lcapy.Circuit()\n",
    "RLC_ParallelC.add(\"\"\"\n",
    "Vi 1 0; down\n",
    "W 1 2; right, size=1.5\n",
    "W 2 v; right\n",
    "L 2 3; down, size = 1.5\n",
    "R 3 5_; down, size = 1.5\n",
    "W 0 5_; right\n",
    "W 5_ 7_; right\n",
    "C v 7_; down, size = 1.5\n",
    "W 0 6; down = 0.1, ground\n",
    "\"\"\")\n",
    "RLC_ParallelC.draw()"
   ]
  },
  {
   "cell_type": "markdown",
   "metadata": {},
   "source": [
    "Have an idea of what the transfer functions looks like? Let's see what lcapy says."
   ]
  },
  {
   "cell_type": "code",
   "execution_count": null,
   "metadata": {},
   "outputs": [],
   "source": [
    "H = (RLC_ParallelC.C.V.laplace() / RLC_ParallelC.Vi.V.laplace()).simplify()\n",
    "H(lcapy.j * lcapy.omega)"
   ]
  },
  {
   "cell_type": "code",
   "execution_count": null,
   "metadata": {},
   "outputs": [],
   "source": [
    "H = (RLC_ParallelC.L.V.laplace() / RLC_ParallelC.Vi.V.laplace()).simplify()\n",
    "H(lcapy.j * lcapy.omega)"
   ]
  },
  {
   "cell_type": "code",
   "execution_count": null,
   "metadata": {},
   "outputs": [],
   "source": [
    "H = (RLC_ParallelC.R.V.laplace() / RLC_ParallelC.Vi.V.laplace()).simplify()\n",
    "H(lcapy.j * lcapy.omega)"
   ]
  },
  {
   "cell_type": "markdown",
   "metadata": {},
   "source": [
    "Hopefully the examples above served as a gentle introduction to using netlists and `lcapy` to create and analyze various configurations of RLC circuits. Feel free to explore using any of the above as a template!"
   ]
  },
  {
   "cell_type": "markdown",
   "metadata": {},
   "source": [
    "### Op-Amp Examples: Including HW 8 Integrator Model"
   ]
  },
  {
   "cell_type": "markdown",
   "metadata": {},
   "source": [
    "Before we can build a full-blown op-amp model with dependent voltage sources and the like, let's ease into the field of op-amps with a quick example of a unity gain buffer in negative feedback. Take a close look at the syntax for the new E (op-amp) component"
   ]
  },
  {
   "cell_type": "code",
   "execution_count": null,
   "metadata": {},
   "outputs": [],
   "source": [
    "opampexampleBuffer = lcapy.Circuit()\n",
    "opampexampleBuffer.add(\"\"\"\n",
    "W i 2; right\n",
    "E o 0 opamp 2 3 A; right\n",
    "W 3 4_; left=0.1\n",
    "W 4_ 5_; down=0.3\n",
    "W 5_ 6_; right=0.2\n",
    "W 6_ o; up\n",
    "W o out; right\n",
    "\"\"\")\n",
    "opampexampleBuffer.draw()"
   ]
  },
  {
   "cell_type": "markdown",
   "metadata": {},
   "source": [
    "Now that we have a working unity gain buffer, let's break it :) and draw one in positive feedback!"
   ]
  },
  {
   "cell_type": "code",
   "execution_count": null,
   "metadata": {},
   "outputs": [],
   "source": [
    "opampexampleBadBuffer = lcapy.Circuit()\n",
    "opampexampleBadBuffer.add(\"\"\"\n",
    "W i 2; right\n",
    "E o 0 opamp 3 2 A; right\n",
    "W 3 4_; left=0.1\n",
    "W 4_ 5_; up=0.3\n",
    "W 5_ 6_; right=0.2\n",
    "W 6_ o; down\n",
    "W o out; right\n",
    "\"\"\")\n",
    "opampexampleBadBuffer.draw()"
   ]
  },
  {
   "cell_type": "markdown",
   "metadata": {},
   "source": [
    "After taking a close look at those examples, try to predict the output of the code block below. A pretty big hint is given in the documentation, but try to visualize the structure in your head! This practice will only help in enabling you to designing your own circuits and diagrams."
   ]
  },
  {
   "cell_type": "code",
   "execution_count": null,
   "metadata": {},
   "outputs": [],
   "source": [
    "noninvamp = lcapy.Circuit()\n",
    "noninvamp.add(\"\"\"\n",
    "Vi 1 0_1 0.1; down\n",
    "W 2_1 2; down\n",
    "R1 2 0 300; down\n",
    "R2 2 3_1 400; right\n",
    "W 4 3_1; down\n",
    "E1 4 0_3 opamp 1_1 2_1 A;\n",
    "W 0_1 0; right\n",
    "W 4 3_2; right\n",
    "W 0 0_3; right\n",
    "RL 3_2 0_3 1e3; down\n",
    "W 1 1_1; right\"\"\")\n",
    "noninvamp.draw()"
   ]
  },
  {
   "cell_type": "markdown",
   "metadata": {},
   "source": [
    "Now that we have a diagram, let's see if we can do anything useful with it. First, let's find an expression for the voltage at the output of the op-amp.\n",
    "\n",
    "Notice a new bit of syntax. Because Python can't handle `noninvamp.4.v` (because `4` is a number), we instead use subscripting (`noninvamp[4].v`) to get node `4`."
   ]
  },
  {
   "cell_type": "code",
   "execution_count": null,
   "metadata": {},
   "outputs": [],
   "source": [
    "noninvamp[4].v"
   ]
  },
  {
   "cell_type": "markdown",
   "metadata": {},
   "source": [
    "How about at the inverting input?"
   ]
  },
  {
   "cell_type": "code",
   "execution_count": null,
   "metadata": {},
   "outputs": [],
   "source": [
    "noninvamp[2].v"
   ]
  },
  {
   "cell_type": "markdown",
   "metadata": {},
   "source": [
    "Run the code block below, and guess what the expression below gives, based on your understanding of the op-amp circuit and the output value.\n",
    "\n",
    "### Bonus mini exercise\n",
    "\n",
    "Try to rewrite the line below to use subscripting instead of dot notation. Hint: you will need to represent RL as a string."
   ]
  },
  {
   "cell_type": "code",
   "execution_count": null,
   "metadata": {},
   "outputs": [],
   "source": [
    "noninvamp.RL.i"
   ]
  },
  {
   "cell_type": "markdown",
   "metadata": {},
   "source": [
    "In fact, we can do something even more powerful; As our op-amp approaches ideality (with an infinite gain), we can see what the behavior looks like. Take a guess!"
   ]
  },
  {
   "cell_type": "code",
   "execution_count": null,
   "metadata": {},
   "outputs": [],
   "source": [
    "noninvamp[4].v.limit('A', lcapy.oo)"
   ]
  },
  {
   "cell_type": "markdown",
   "metadata": {},
   "source": [
    "Now, let's go ahead and build the op-amp integrator circuit from HW 8. Here's the schematic diagram, without the details of the op-amp modeled."
   ]
  },
  {
   "cell_type": "code",
   "execution_count": null,
   "metadata": {},
   "outputs": [],
   "source": [
    "opAmpIntegrator = lcapy.Circuit()\n",
    "opAmpIntegrator.add(\"\"\"\n",
    "Vin 0_1 1 {sin(t)}; up\n",
    "P1 1 0_1; down\n",
    "R 1 2; right\n",
    "C 2_1 3_1; right\n",
    "E1 3_2 0_3 opamp 2_0 2 A; mirror\n",
    "W 0_1 0; right\n",
    "W 2_0 0; down\n",
    "W 3_2 3; right\n",
    "W 0 0_3; right\n",
    "P2 3 0_3; down\n",
    "W 2_1 2; down\n",
    "W 3_1 3_2; down\n",
    "R2 0_3 3; up\n",
    "\"\"\")\n",
    "opAmpIntegrator.draw()"
   ]
  },
  {
   "cell_type": "markdown",
   "metadata": {},
   "source": [
    "Here, we can analyze the behavior of the circuit in a symbolic fashion, in contrast to the numeric approach for the noninverting op-amp example above.\n",
    "\n",
    "### Mini exercise\n",
    "\n",
    "Fill in the code segment below. Remember, we want to find the limit of the output (which is node 3) as the gain ('A') goes to infinity (which is represented as `lcapy.oo`). Refer to the previous example using limits if you're stuck."
   ]
  },
  {
   "cell_type": "code",
   "execution_count": null,
   "metadata": {},
   "outputs": [],
   "source": [
    "opAmpIntegrator[?].v.?(?, ?) # TODO: fill in the ?'s'"
   ]
  },
  {
   "cell_type": "markdown",
   "metadata": {},
   "source": [
    "Finally, let's take a look at how to construct the more detailed model of the op-amp internals, including the dependent voltage source, with netlists."
   ]
  },
  {
   "cell_type": "code",
   "execution_count": null,
   "metadata": {},
   "outputs": [],
   "source": [
    "opAmpIntegratorModel = lcapy.Circuit()\n",
    "opAmpIntegratorModel.add(\"\"\"\n",
    "Vi i 1_; right\n",
    "R 1_ 2_; right\n",
    "W 2_ 3_; right\n",
    "W 3_ G-; right=0.4\n",
    "W 3_ 5_; up\n",
    "C 5_ 6_; right=2.5\n",
    "W 6_ 7; down\n",
    "W 7 out; right\n",
    "C 7 0; down=2\n",
    "R 7 8; left\n",
    "W 0_ 0; right\n",
    "EG 0_ 8 G- G+; up=2\n",
    "W 0_ 11; down=0.1, ground\n",
    "W 0_ 12_; left=1.5\n",
    "W 12_ 13_; up\n",
    "W 13_ G+; right=0.4\n",
    "\"\"\")\n",
    "opAmpIntegratorModel.draw()"
   ]
  },
  {
   "cell_type": "markdown",
   "metadata": {},
   "source": [
    "The example that follows synthesizes many of the concepts from previous examples, and understanding everything that follows is key to being able to independently building circuits like these yourself to explore concepts and expand upon homework and lecture examples."
   ]
  },
  {
   "cell_type": "code",
   "execution_count": null,
   "metadata": {},
   "outputs": [],
   "source": [
    "from lcapy import Circuit, j, omega, s\n",
    "cct = Circuit()\n",
    "cct.add(\"\"\"\n",
    "Vi 1 0_1 step; down\n",
    "Rs 1 2; right, size=1.5\n",
    "C 2 0; down, v=v_C\n",
    "W 0_1 0; right\n",
    "W 0 0_2; right\n",
    "Rin 2_2 0_2; down, v=v_{in}\n",
    "W3 2 2_2; right\n",
    "E1 3 0_3 2 0 A; down, l=A v_{in}\n",
    "Rout 3 4; right, size=1.5\n",
    "RL 4 0_4; down\n",
    "W 0_2 0_3; size=1.2\n",
    "W 0_3 0_4\n",
    "P1 4 0_4; down\n",
    "\"\"\")\n",
    "cct.draw()"
   ]
  },
  {
   "cell_type": "markdown",
   "metadata": {},
   "source": [
    "Below is the transfer function from the independent voltage source to the feedback resistor at the very right."
   ]
  },
  {
   "cell_type": "code",
   "execution_count": null,
   "metadata": {},
   "outputs": [],
   "source": [
    "H = cct.RL.V(s) / cct.Vi.V(s)\n",
    "H(j * omega)"
   ]
  },
  {
   "cell_type": "markdown",
   "metadata": {},
   "source": [
    "Let's find its magnitude!"
   ]
  },
  {
   "cell_type": "code",
   "execution_count": null,
   "metadata": {
    "scrolled": true
   },
   "outputs": [],
   "source": [
    "H(j * omega).magnitude"
   ]
  },
  {
   "cell_type": "markdown",
   "metadata": {},
   "source": [
    "And the phase!"
   ]
  },
  {
   "cell_type": "code",
   "execution_count": null,
   "metadata": {},
   "outputs": [],
   "source": [
    "H(j * omega).phase_degrees"
   ]
  },
  {
   "cell_type": "markdown",
   "metadata": {},
   "source": [
    "Now, let's convert all of our symbolic expressions to numeric values with specific inputs. \n",
    "\n",
    "**Here is a useful bit of syntax.**\n",
    "\n",
    "When we have a symbolic expression like H1, we can substitute values for constants such as `C` by passing in a dictionary of substitution values to the `.subs` method."
   ]
  },
  {
   "cell_type": "code",
   "execution_count": null,
   "metadata": {},
   "outputs": [],
   "source": [
    "H1 = H.subs({'C': 1e-9, 'Rs': 25e3, 'RL': 5e3, 'Rin' : 500e3, 'Rout' : 1e3, 'A' : 2})\n",
    "H1(j * omega)"
   ]
  },
  {
   "cell_type": "markdown",
   "metadata": {},
   "source": [
    "Now, let's do a couple of plotting examples of the magnitude and phase; based on these plots, what kind of filter did we build above?\n",
    "\n",
    "**Syntax tip: a fast way of doing plotting.**\n",
    "\n",
    "Here is another neat trick. Lcapy includes a convenience feature for creating a decibel plot. It's a lot easier to use than the technique we used for plotting previously. Check out the syntax below.\n",
    "\n",
    "### Bonus mini exercise\n",
    "\n",
    "Try overlaying a Bode approximation on this phase plot! You can use `ax.plot(xs, ys)`"
   ]
  },
  {
   "cell_type": "code",
   "execution_count": null,
   "metadata": {},
   "outputs": [],
   "source": [
    "w = np.logspace(2, 6, 500)\n",
    "ax = H1(j * omega).dB.plot(w, log_frequency=True)"
   ]
  },
  {
   "cell_type": "markdown",
   "metadata": {},
   "source": [
    "There is also a convenient method for plotting phase, `phase_degrees.plot`.\n",
    "\n",
    "### Bonus mini exercise\n",
    "\n",
    "Try overlaying a Bode approximation on this phase plot! You can use `ax.plot(xs, ys)`"
   ]
  },
  {
   "cell_type": "code",
   "execution_count": null,
   "metadata": {},
   "outputs": [],
   "source": [
    "ax = H1(j * omega).phase_degrees.plot(w, log_frequency=True)"
   ]
  },
  {
   "cell_type": "markdown",
   "metadata": {},
   "source": [
    "# Exercise 4. Comparator\n",
    "\n",
    "Just to get some experience working with the tricky circuit elements of voltage-controlled voltage source (VCVS) and op-amp, fill in the code below to build a simple comparator circuit.\n",
    "\n",
    "To understand how the op amp is drawn it is necessary to first understand the voltage controlled voltage source (that is after all what an op amp is!)\n",
    "The code for a voltage controlled voltage source is `E* to from Vin+ Vin- Gain`, where `E*` is any name that starts with `E` (e.g. `E1` or `Eggbert`),`from` and `to` are pretty straightforward, `Vin+` and `Vin-` are the input $V_+$ and $V_-$, and `Gain` is the gain.\n",
    "\n",
    "Here is an example of a VCVS. Be warned, it has a lot of wires."
   ]
  },
  {
   "cell_type": "code",
   "execution_count": null,
   "metadata": {},
   "outputs": [],
   "source": [
    "VCVS = lcapy.Circuit()\n",
    "VCVS.add(\"\"\"\n",
    "W 0 0_1; right=1.5\n",
    "W 0_1 0_2; right=1.5\n",
    "Vin1 1_ 0 dc Vin1; down=2\n",
    "Vin2 2_ 0_1 dc Vin2; down\n",
    "W 1_ U+; right\n",
    "W 2_ U-; right\n",
    "Ee16bIsCool x 0_2 U+ U- H; left \n",
    "\"\"\")\n",
    "VCVS.draw()"
   ]
  },
  {
   "cell_type": "markdown",
   "metadata": {},
   "source": [
    "Let's do some analysis to make sure this works as expected."
   ]
  },
  {
   "cell_type": "code",
   "execution_count": null,
   "metadata": {},
   "outputs": [],
   "source": [
    "VCVS.x.V.dc"
   ]
  },
  {
   "cell_type": "markdown",
   "metadata": {},
   "source": [
    "Woohoo! That's what we expect from a voltage controlled voltage source!\n",
    "\n",
    "Now to make it an op amp, we have to add the word `opamp`.\n",
    "\n",
    "So the code becomes `E* to from opamp Vin+ op amp Vin- Gain`\n",
    "\n",
    "However, we will try using the op amp here anyway."
   ]
  },
  {
   "cell_type": "code",
   "execution_count": null,
   "metadata": {},
   "outputs": [],
   "source": [
    "opamp = lcapy.Circuit()\n",
    "opamp.add(\"\"\"\n",
    "Vin1 U1 0 dc Vin1; down\n",
    "Vin2 U2 0 dc Vin2; up\n",
    "E x 0 opamp U1 U2 H;\n",
    "W out x; down\n",
    "\"\"\")\n",
    "opamp.draw()"
   ]
  },
  {
   "cell_type": "markdown",
   "metadata": {},
   "source": [
    "Now let's analyze the output of the op amp."
   ]
  },
  {
   "cell_type": "code",
   "execution_count": null,
   "metadata": {},
   "outputs": [],
   "source": [
    "opamp.out.v"
   ]
  },
  {
   "cell_type": "markdown",
   "metadata": {},
   "source": [
    "Now you try it! Build a comparator that has the $V_-$ terminal connected to ground and the $V_+$ terminal connected to a constant voltage source, and check the output.\n",
    "\n",
    "Try using a voltage-controlled voltage source to avoid running into rendering bugs. You can refer to the first example in this section if you're having trouble. There may be a lot of wires and connections to ground to manage!"
   ]
  },
  {
   "cell_type": "code",
   "execution_count": null,
   "metadata": {},
   "outputs": [],
   "source": [
    "# TODO: Build comparator"
   ]
  },
  {
   "cell_type": "markdown",
   "metadata": {},
   "source": [
    "# Wheatstone Bridge\n",
    " \n",
    "This is a fun example from EE16A. It shows an advanced feature of Lcapy, that you can specify orientation in degrees counterclockwise from the positive x-axis using the `rotate=` argument. You will then need to use the `size=` argument to specify scaling.\n",
    "\n",
    "For instance, `R x y; right=2` is equivalent to `R x y; rotate=0, size=2`."
   ]
  },
  {
   "cell_type": "code",
   "execution_count": 142,
   "metadata": {},
   "outputs": [
    {
     "name": "stdout",
     "output_type": "stream",
     "text": [
      "DEBUG: Trying to compile C:\\Users\\18NEEL~1\\AppData\\Local\\Temp\\tmpufs8n474.tex\n",
      "DEBUG: Generated target url starts with 'http://latexonline.cc/compile?text=%5Cdo...'\n",
      "DEBUG: Compiling LaTeX using online API...\n",
      "DEBUG: Downloading service response...\n",
      "DEBUG: Finished downloading compiled LaTeX output\n",
      "DEBUG: Reading PDF binary at C:\\Users\\18NEEL~1\\AppData\\Local\\Temp\\tmpufs8n474.pdf into memory...\n",
      "DEBUG: Converting PDF to image using OCF service...\n",
      "DEBUG: Received conversion response (len 50885)\n",
      "\n"
     ]
    },
    {
     "data": {
      "application/vnd.jupyter.widget-view+json": {
       "model_id": "d8cd2250b99f41f3baa2cc723b331abd",
       "version_major": 2,
       "version_minor": 0
      },
      "text/html": [
       "<p>Failed to display Jupyter Widget of type <code>Image</code>.</p>\n",
       "<p>\n",
       "  If you're reading this message in the Jupyter Notebook or JupyterLab Notebook, it may mean\n",
       "  that the widgets JavaScript is still loading. If this message persists, it\n",
       "  likely means that the widgets JavaScript library is either not installed or\n",
       "  not enabled. See the <a href=\"https://ipywidgets.readthedocs.io/en/stable/user_install.html\">Jupyter\n",
       "  Widgets Documentation</a> for setup instructions.\n",
       "</p>\n",
       "<p>\n",
       "  If you're reading this message in another frontend (for example, a static\n",
       "  rendering on GitHub or <a href=\"https://nbviewer.jupyter.org/\">NBViewer</a>),\n",
       "  it may mean that your frontend doesn't currently support widgets.\n",
       "</p>\n"
      ],
      "text/plain": [
       "Image(value=b'')"
      ]
     },
     "metadata": {},
     "output_type": "display_data"
    }
   ],
   "source": [
    "wheatstone = lcapy.Circuit()\n",
    "wheatstone.add(\"\"\"\n",
    "Vs 1_ 0 dc Vs; down\n",
    "W 1_ 2_; right=2\n",
    "R1 2_ x 2; rotate=-135, size=2\n",
    "R2 2_ y 2; rotate=-45, size=2\n",
    "R3 y x; left\n",
    "R4 x 5_ 1; rotate=-45, size=2\n",
    "R5 y 5_ 2; rotate=-135, size=2\n",
    "W 5_ 0_; down\n",
    "W 0_ 0; left=2\n",
    "\"\"\")\n",
    "wheatstone.draw()"
   ]
  },
  {
   "cell_type": "markdown",
   "metadata": {},
   "source": [
    "We can use string subscripting to access the different nodes and elements of the network.\n",
    "\n",
    "See if you can predict what the answers will be. Remember, the resistors are all the same... so what should be the voltage across $R_3$?"
   ]
  },
  {
   "cell_type": "code",
   "execution_count": 145,
   "metadata": {},
   "outputs": [
    {
     "data": {
      "text/latex": [
       "$$\\frac{Vs \\left(R_{3} + 2\\right)}{3 R_{3} + 5}$$"
      ],
      "text/plain": [
       "Vₛ⋅(R₃ + 2)\n",
       "───────────\n",
       "  3⋅R₃ + 5 "
      ]
     },
     "execution_count": 145,
     "metadata": {},
     "output_type": "execute_result"
    }
   ],
   "source": [
    "wheatstone['x'].v"
   ]
  },
  {
   "cell_type": "code",
   "execution_count": 95,
   "metadata": {},
   "outputs": [
    {
     "data": {
      "text/latex": [
       "$$\\frac{Vs \\left(3 r + 4\\right)}{2 \\left(3 r + 5\\right)}$$"
      ],
      "text/plain": [
       "Vₛ⋅(3⋅r + 4)\n",
       "────────────\n",
       "2⋅(3⋅r + 5) "
      ]
     },
     "execution_count": 95,
     "metadata": {},
     "output_type": "execute_result"
    }
   ],
   "source": [
    "wheatstone['y'].v"
   ]
  },
  {
   "cell_type": "code",
   "execution_count": 83,
   "metadata": {},
   "outputs": [
    {
     "name": "stdout",
     "output_type": "stream",
     "text": [
      "R1 \n",
      "voltage: -Vs*(9*r + 20)/(36*r + 83) + Vs \n",
      "current: 3*Vs*(3*r + 7)/(36*r + 83)\n",
      "R2 \n",
      "voltage: -4*Vs*(2*r + 5)/(36*r + 83) + Vs \n",
      "current: Vs*(4*r + 9)/(36*r + 83)\n",
      "R3 \n",
      "voltage: 4*Vs*(2*r + 5)/(36*r + 83) - Vs*(9*r + 20)/(36*r + 83) \n",
      "current: -Vs/(36*r + 83)\n",
      "R4 \n",
      "voltage: Vs*(9*r + 20)/(36*r + 83) \n",
      "current: Vs*(9*r + 20)/(36*r + 83)\n",
      "R5 \n",
      "voltage: 4*Vs*(2*r + 5)/(36*r + 83) \n",
      "current: 2*Vs*(2*r + 5)/(36*r + 83)\n"
     ]
    }
   ],
   "source": [
    "for i in range(1, 6):\n",
    "    name = 'R' + str(i)\n",
    "    print(f'{name} \\nvoltage: {wheatstone[name].v} \\ncurrent: {wheatstone[name].i}')"
   ]
  },
  {
   "cell_type": "markdown",
   "metadata": {},
   "source": [
    "What if we made the Wheatstone bridge all capacitors?"
   ]
  },
  {
   "cell_type": "code",
   "execution_count": 66,
   "metadata": {},
   "outputs": [
    {
     "name": "stdout",
     "output_type": "stream",
     "text": [
      "DEBUG: Trying to compile C:\\Users\\18NEEL~1\\AppData\\Local\\Temp\\tmpey8y5b9u.tex\n",
      "DEBUG: Generated target url starts with 'http://latexonline.cc/compile?text=%5Cdo...'\n",
      "DEBUG: Compiling LaTeX using online API...\n",
      "DEBUG: Downloading service response...\n",
      "DEBUG: Finished downloading compiled LaTeX output\n",
      "DEBUG: Reading PDF binary at C:\\Users\\18NEEL~1\\AppData\\Local\\Temp\\tmpey8y5b9u.pdf into memory...\n",
      "DEBUG: Converting PDF to image using OCF service...\n",
      "DEBUG: Received conversion response (len 50484)\n",
      "\n"
     ]
    },
    {
     "data": {
      "image/jpeg": "[encoded data removed]",
      "text/plain": [
       "<IPython.core.display.Image object>"
      ]
     },
     "execution_count": 66,
     "metadata": {},
     "output_type": "execute_result"
    }
   ],
   "source": [
    "wheatstone_capacitors = lcapy.Circuit()\n",
    "wheatstone_capacitors.add(\"\"\"\n",
    "Vs 1_ 0 dc Vs; down\n",
    "W 1_ 2_; right=2\n",
    "C1 2_ x 1; rotate=-135, size=2\n",
    "C2 2_ y 1; rotate=-45, size=2\n",
    "C3 y x 1; left\n",
    "C4 x 5_ 1; rotate=-45, size=2\n",
    "C5 y 5_ 1; rotate=-135, size=2\n",
    "W 5_ 0_; down\n",
    "W 0_ 0; left=2\n",
    "\"\"\")\n",
    "wheatstone_capacitors.draw()"
   ]
  },
  {
   "cell_type": "code",
   "execution_count": 67,
   "metadata": {},
   "outputs": [
    {
     "name": "stdout",
     "output_type": "stream",
     "text": [
      "ValueError:\n",
      "The MNA A matrix is not invertible for dc analysis because:\n",
      "1. there may be capacitors in series;\n",
      "2. a voltage source might be short-circuited;\n",
      "3. a current source might be open-circuited.\n",
      "  Check there is a DC path between all nodes.\n"
     ]
    }
   ],
   "source": [
    "try:\n",
    "    print(wheatstone_capacitors.C1.v)\n",
    "except ValueError as e:\n",
    "    print(f'ValueError:\\n{e}')"
   ]
  },
  {
   "cell_type": "markdown",
   "metadata": {},
   "source": [
    "Alas, `lcapy` can't work with series capacitors. It seems fancy software cannot always substitute for a thorough understanding of the techniques of circuit analysis. Go forth with your EE16B knowledge and prosper!"
   ]
  }
 ],
 "metadata": {
  "kernel_info": {
   "name": "python3"
  },
  "kernelspec": {
   "display_name": "Python 3",
   "language": "python",
   "name": "python3"
  },
  "language_info": {
   "codemirror_mode": {
    "name": "ipython",
    "version": 3
   },
   "file_extension": ".py",
   "mimetype": "text/x-python",
   "name": "python",
   "nbconvert_exporter": "python",
   "pygments_lexer": "ipython3",
   "version": "3.6.4"
  },
  "nteract": {
   "version": "0.14.2"
  }
 },
 "nbformat": 4,
 "nbformat_minor": 2
}
